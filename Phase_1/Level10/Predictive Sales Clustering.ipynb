{
 "cells": [
  {
   "cell_type": "code",
   "execution_count": 21,
   "metadata": {},
   "outputs": [],
   "source": [
    "import pandas as pd\n",
    "from sklearn.cluster import KMeans\n",
    "from scipy.stats import ttest_ind\n",
    "import seaborn as sns\n",
    "import matplotlib.pyplot as plt"
   ]
  },
  {
   "cell_type": "code",
   "execution_count": 22,
   "metadata": {},
   "outputs": [
    {
     "data": {
      "text/html": [
       "<div>\n",
       "<style scoped>\n",
       "    .dataframe tbody tr th:only-of-type {\n",
       "        vertical-align: middle;\n",
       "    }\n",
       "\n",
       "    .dataframe tbody tr th {\n",
       "        vertical-align: top;\n",
       "    }\n",
       "\n",
       "    .dataframe thead th {\n",
       "        text-align: right;\n",
       "    }\n",
       "</style>\n",
       "<table border=\"1\" class=\"dataframe\">\n",
       "  <thead>\n",
       "    <tr style=\"text-align: right;\">\n",
       "      <th></th>\n",
       "      <th>Date</th>\n",
       "      <th>Time</th>\n",
       "      <th>Item</th>\n",
       "      <th>Price</th>\n",
       "      <th>Quantity</th>\n",
       "      <th>Total</th>\n",
       "      <th>Customer ID</th>\n",
       "      <th>Payment Method</th>\n",
       "      <th>Employee ID</th>\n",
       "      <th>Customer Satisfaction</th>\n",
       "      <th>Weather</th>\n",
       "      <th>Special Offers</th>\n",
       "    </tr>\n",
       "  </thead>\n",
       "  <tbody>\n",
       "    <tr>\n",
       "      <th>0</th>\n",
       "      <td>2024-04-01</td>\n",
       "      <td>12:15</td>\n",
       "      <td>Sandwich</td>\n",
       "      <td>4.5</td>\n",
       "      <td>2</td>\n",
       "      <td>9.0</td>\n",
       "      <td>1</td>\n",
       "      <td>Cash</td>\n",
       "      <td>101</td>\n",
       "      <td>4</td>\n",
       "      <td>Sunny</td>\n",
       "      <td>Yes</td>\n",
       "    </tr>\n",
       "    <tr>\n",
       "      <th>1</th>\n",
       "      <td>2024-04-01</td>\n",
       "      <td>12:30</td>\n",
       "      <td>Drink</td>\n",
       "      <td>1.5</td>\n",
       "      <td>1</td>\n",
       "      <td>1.5</td>\n",
       "      <td>2</td>\n",
       "      <td>Card</td>\n",
       "      <td>102</td>\n",
       "      <td>3</td>\n",
       "      <td>Sunny</td>\n",
       "      <td>No</td>\n",
       "    </tr>\n",
       "    <tr>\n",
       "      <th>2</th>\n",
       "      <td>2024-04-01</td>\n",
       "      <td>12:45</td>\n",
       "      <td>Salad</td>\n",
       "      <td>5.0</td>\n",
       "      <td>1</td>\n",
       "      <td>5.0</td>\n",
       "      <td>3</td>\n",
       "      <td>Mobile Payment</td>\n",
       "      <td>103</td>\n",
       "      <td>5</td>\n",
       "      <td>Cloudy</td>\n",
       "      <td>Yes</td>\n",
       "    </tr>\n",
       "    <tr>\n",
       "      <th>3</th>\n",
       "      <td>2024-04-01</td>\n",
       "      <td>13:00</td>\n",
       "      <td>Burger</td>\n",
       "      <td>5.5</td>\n",
       "      <td>1</td>\n",
       "      <td>5.5</td>\n",
       "      <td>4</td>\n",
       "      <td>Cash</td>\n",
       "      <td>104</td>\n",
       "      <td>4</td>\n",
       "      <td>Sunny</td>\n",
       "      <td>No</td>\n",
       "    </tr>\n",
       "    <tr>\n",
       "      <th>4</th>\n",
       "      <td>2024-04-01</td>\n",
       "      <td>13:15</td>\n",
       "      <td>Sandwich</td>\n",
       "      <td>4.5</td>\n",
       "      <td>1</td>\n",
       "      <td>4.5</td>\n",
       "      <td>5</td>\n",
       "      <td>Card</td>\n",
       "      <td>105</td>\n",
       "      <td>3</td>\n",
       "      <td>Sunny</td>\n",
       "      <td>Yes</td>\n",
       "    </tr>\n",
       "  </tbody>\n",
       "</table>\n",
       "</div>"
      ],
      "text/plain": [
       "         Date   Time      Item  Price  Quantity  Total  Customer ID  \\\n",
       "0  2024-04-01  12:15  Sandwich    4.5         2    9.0            1   \n",
       "1  2024-04-01  12:30     Drink    1.5         1    1.5            2   \n",
       "2  2024-04-01  12:45     Salad    5.0         1    5.0            3   \n",
       "3  2024-04-01  13:00    Burger    5.5         1    5.5            4   \n",
       "4  2024-04-01  13:15  Sandwich    4.5         1    4.5            5   \n",
       "\n",
       "   Payment Method  Employee ID  Customer Satisfaction Weather Special Offers  \n",
       "0            Cash          101                      4   Sunny            Yes  \n",
       "1            Card          102                      3   Sunny             No  \n",
       "2  Mobile Payment          103                      5  Cloudy            Yes  \n",
       "3            Cash          104                      4   Sunny             No  \n",
       "4            Card          105                      3   Sunny            Yes  "
      ]
     },
     "execution_count": 22,
     "metadata": {},
     "output_type": "execute_result"
    }
   ],
   "source": [
    "df = pd.read_csv('canteen_shop_data.csv')\n",
    "df.head()"
   ]
  },
  {
   "cell_type": "code",
   "execution_count": 23,
   "metadata": {},
   "outputs": [
    {
     "name": "stdout",
     "output_type": "stream",
     "text": [
      "   Customer ID  Total  Frequency  Avg_Spent\n",
      "0            1    9.0          1        9.0\n",
      "1            2    1.5          1        1.5\n",
      "2            3    5.0          1        5.0\n",
      "3            4    5.5          1        5.5\n",
      "4            5    4.5          1        4.5\n"
     ]
    }
   ],
   "source": [
    "\n",
    "df[\"Total\"] = df[\"Total\"].astype(float)\n",
    "\n",
    "total_spend = df.groupby(\"Customer ID\")[\"Total\"].sum().reset_index()\n",
    "\n",
    "\n",
    "purchase_frequency = df.groupby(\"Customer ID\")[\"Item\"].count().reset_index()\n",
    "purchase_frequency.rename(columns={\"Item\": \"Frequency\"}, inplace=True)\n",
    "\n",
    "\n",
    "avg_spent = total_spend.copy()\n",
    "avg_spent[\"Avg_Spent\"] = total_spend[\"Total\"] / purchase_frequency[\"Frequency\"]\n",
    "\n",
    "\n",
    "customer_features = total_spend.merge(purchase_frequency, on=\"Customer ID\")\n",
    "customer_features = customer_features.merge(avg_spent[[\"Customer ID\", \"Avg_Spent\"]], on=\"Customer ID\")\n",
    "\n",
    "print(customer_features.head())\n"
   ]
  },
  {
   "cell_type": "code",
   "execution_count": 24,
   "metadata": {},
   "outputs": [
    {
     "name": "stdout",
     "output_type": "stream",
     "text": [
      "   Customer ID  Total  Frequency  Avg_Spent  Cluster    Cluster_Label\n",
      "0            1    9.0          1        9.0        1  Medium Spenders\n",
      "1            2    1.5          1        1.5        2    High Spenders\n",
      "2            3    5.0          1        5.0        0     Low Spenders\n",
      "3            4    5.5          1        5.5        0     Low Spenders\n",
      "4            5    4.5          1        4.5        0     Low Spenders\n"
     ]
    }
   ],
   "source": [
    "from sklearn.cluster import KMeans\n",
    "from sklearn.preprocessing import StandardScaler\n",
    "\n",
    "\n",
    "scaler = StandardScaler()\n",
    "scaled_features = scaler.fit_transform(customer_features[[\"Total\", \"Frequency\", \"Avg_Spent\"]])\n",
    "\n",
    "kmeans = KMeans(n_clusters=3, random_state=42)\n",
    "customer_features[\"Cluster\"] = kmeans.fit_predict(scaled_features)\n",
    "\n",
    "cluster_labels = {\n",
    "    0: \"Low Spenders\",\n",
    "    1: \"Medium Spenders\",\n",
    "    2: \"High Spenders\"\n",
    "}\n",
    "customer_features[\"Cluster_Label\"] = customer_features[\"Cluster\"].map(cluster_labels)\n",
    "\n",
    "print(customer_features.head())\n"
   ]
  },
  {
   "cell_type": "code",
   "execution_count": 25,
   "metadata": {},
   "outputs": [
    {
     "name": "stdout",
     "output_type": "stream",
     "text": [
      "T-test: t=-47.26264465306802, p=3.457502769196151e-91\n"
     ]
    }
   ],
   "source": [
    "from scipy.stats import ttest_ind\n",
    "\n",
    "cluster_0 = customer_features[customer_features[\"Cluster\"] == 0][\"Total\"]\n",
    "cluster_1 = customer_features[customer_features[\"Cluster\"] == 1][\"Total\"]\n",
    "\n",
    "t_stat, p_value = ttest_ind(cluster_0, cluster_1)\n",
    "print(f\"T-test: t={t_stat}, p={p_value}\")\n"
   ]
  },
  {
   "cell_type": "code",
   "execution_count": 26,
   "metadata": {},
   "outputs": [
    {
     "data": {
      "image/png": "[encoded data removed]",
      "text/plain": [
       "<Figure size 640x480 with 1 Axes>"
      ]
     },
     "metadata": {},
     "output_type": "display_data"
    }
   ],
   "source": [
    "import seaborn as sns\n",
    "import matplotlib.pyplot as plt\n",
    "\n",
    "\n",
    "sns.scatterplot(x=customer_features[\"Total\"], y=customer_features[\"Frequency\"], hue=customer_features[\"Cluster\"], palette=\"viridis\")\n",
    "plt.title(\"Customer Clustering Based on Sales Behavior\")\n",
    "plt.show()\n"
   ]
  }
 ],
 "metadata": {
  "kernelspec": {
   "display_name": "Python 3",
   "language": "python",
   "name": "python3"
  },
  "language_info": {
   "codemirror_mode": {
    "name": "ipython",
    "version": 3
   },
   "file_extension": ".py",
   "mimetype": "text/x-python",
   "name": "python",
   "nbconvert_exporter": "python",
   "pygments_lexer": "ipython3",
   "version": "3.11.1"
  }
 },
 "nbformat": 4,
 "nbformat_minor": 2
}
