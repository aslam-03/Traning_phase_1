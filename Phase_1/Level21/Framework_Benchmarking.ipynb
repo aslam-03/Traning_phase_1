{
 "cells": [
  {
   "cell_type": "code",
   "execution_count": 2,
   "id": "0ab1e335",
   "metadata": {},
   "outputs": [],
   "source": [
    "import numpy as np\n",
    "import pandas as pd\n",
    "import time\n",
    "import matplotlib.pyplot as plt\n",
    "from sklearn.datasets import load_wine\n",
    "from sklearn.model_selection import train_test_split\n",
    "from sklearn.preprocessing import StandardScaler\n",
    "import tensorflow as tf\n",
    "from tensorflow.keras.models import Sequential\n",
    "from tensorflow.keras.layers import Dense\n",
    "import torch\n",
    "import torch.nn as nn\n",
    "import torch.optim as optim\n",
    "from torch.utils.data import DataLoader, TensorDataset"
   ]
  },
  {
   "cell_type": "code",
   "execution_count": 3,
   "id": "baca0acd",
   "metadata": {},
   "outputs": [],
   "source": [
    "wine = load_wine()\n",
    "X, y = wine.data, wine.target"
   ]
  },
  {
   "cell_type": "code",
   "execution_count": 4,
   "id": "320a6fdc",
   "metadata": {},
   "outputs": [],
   "source": [
    "scaler = StandardScaler()\n",
    "X = scaler.fit_transform(X)\n",
    "y = pd.get_dummies(y).values"
   ]
  },
  {
   "cell_type": "code",
   "execution_count": 5,
   "id": "bde8f99a",
   "metadata": {},
   "outputs": [],
   "source": [
    "X_train, X_test, y_train, y_test = train_test_split(X, y, test_size=0.2, random_state=42)\n"
   ]
  },
  {
   "cell_type": "code",
   "execution_count": 6,
   "id": "60a736a8",
   "metadata": {},
   "outputs": [],
   "source": [
    "def build_tf_model():\n",
    "    model = Sequential([\n",
    "        Dense(64, activation='relu', input_shape=(X_train.shape[1],)),\n",
    "        Dense(y_train.shape[1], activation='softmax')\n",
    "    ])\n",
    "    model.compile(optimizer='adam',\n",
    "                 loss='categorical_crossentropy',\n",
    "                 metrics=['accuracy'])\n",
    "    return model"
   ]
  },
  {
   "cell_type": "code",
   "execution_count": 7,
   "id": "2471ace0",
   "metadata": {},
   "outputs": [
    {
     "name": "stderr",
     "output_type": "stream",
     "text": [
      "c:\\Users\\ASLAM\\AppData\\Local\\Programs\\Python\\Python311\\Lib\\site-packages\\keras\\src\\layers\\core\\dense.py:85: UserWarning: Do not pass an `input_shape`/`input_dim` argument to a layer. When using Sequential models, prefer using an `Input(shape)` object as the first layer in the model instead.\n",
      "  super().__init__(activity_regularizer=activity_regularizer, **kwargs)\n"
     ]
    }
   ],
   "source": [
    "tf_start = time.time()\n",
    "tf_model = build_tf_model()\n",
    "tf_history = tf_model.fit(X_train, y_train, epochs=10, batch_size=32, verbose=0)\n",
    "tf_time = time.time() - tf_start\n",
    "\n",
    "_, tf_acc = tf_model.evaluate(X_test, y_test, verbose=0)\n"
   ]
  },
  {
   "cell_type": "code",
   "execution_count": 8,
   "id": "3d5f1389",
   "metadata": {},
   "outputs": [],
   "source": [
    "class PyTorchModel(nn.Module):\n",
    "    def __init__(self, input_dim, output_dim):\n",
    "        super().__init__()\n",
    "        self.layer1 = nn.Linear(input_dim, 64)\n",
    "        self.layer2 = nn.Linear(64, output_dim)\n",
    "        \n",
    "    def forward(self, x):\n",
    "        x = torch.relu(self.layer1(x))\n",
    "        return torch.softmax(self.layer2(x), dim=1)\n"
   ]
  },
  {
   "cell_type": "code",
   "execution_count": 9,
   "id": "2565cc9a",
   "metadata": {},
   "outputs": [],
   "source": [
    "\n",
    "X_train_torch = torch.FloatTensor(X_train)\n",
    "y_train_torch = torch.FloatTensor(y_train)\n",
    "X_test_torch = torch.FloatTensor(X_test)\n",
    "y_test_torch = torch.FloatTensor(y_test)\n"
   ]
  },
  {
   "cell_type": "code",
   "execution_count": 10,
   "id": "fd741621",
   "metadata": {},
   "outputs": [],
   "source": [
    "\n",
    "train_data = TensorDataset(X_train_torch, y_train_torch)\n",
    "train_loader = DataLoader(train_data, batch_size=32, shuffle=True)\n"
   ]
  },
  {
   "cell_type": "code",
   "execution_count": 11,
   "id": "0c4f178b",
   "metadata": {},
   "outputs": [],
   "source": [
    "\n",
    "pt_model = PyTorchModel(X_train.shape[1], y_train.shape[1])\n",
    "criterion = nn.CrossEntropyLoss()\n",
    "optimizer = optim.Adam(pt_model.parameters())\n"
   ]
  },
  {
   "cell_type": "code",
   "execution_count": 12,
   "id": "1d1a5006",
   "metadata": {},
   "outputs": [],
   "source": [
    "\n",
    "pt_start = time.time()\n",
    "for epoch in range(10):\n",
    "    for inputs, labels in train_loader:\n",
    "        optimizer.zero_grad()\n",
    "        outputs = pt_model(inputs)\n",
    "        loss = criterion(outputs, labels)\n",
    "        loss.backward()\n",
    "        optimizer.step()\n",
    "pt_time = time.time() - pt_start\n"
   ]
  },
  {
   "cell_type": "code",
   "execution_count": 13,
   "id": "c0446efb",
   "metadata": {},
   "outputs": [],
   "source": [
    "\n",
    "with torch.no_grad():\n",
    "    pt_outputs = pt_model(X_test_torch)\n",
    "    _, pt_preds = torch.max(pt_outputs, 1)\n",
    "    _, y_true = torch.max(y_test_torch, 1)\n",
    "    pt_acc = (pt_preds == y_true).float().mean().item()\n"
   ]
  },
  {
   "cell_type": "code",
   "execution_count": 14,
   "id": "8cfee099",
   "metadata": {},
   "outputs": [
    {
     "name": "stdout",
     "output_type": "stream",
     "text": [
      "Framework Comparison Results:\n",
      " Framework  Training Time (s)  Test Accuracy\n",
      "TensorFlow           2.161998       0.972222\n",
      "   PyTorch           0.132000       0.888889\n"
     ]
    }
   ],
   "source": [
    "\n",
    "results = pd.DataFrame({\n",
    "    'Framework': ['TensorFlow', 'PyTorch'],\n",
    "    'Training Time (s)': [tf_time, pt_time],\n",
    "    'Test Accuracy': [tf_acc, pt_acc]\n",
    "})\n",
    "\n",
    "print(\"Framework Comparison Results:\")\n",
    "print(results.to_string(index=False))\n",
    "\n"
   ]
  }
 ],
 "metadata": {
  "kernelspec": {
   "display_name": "Python 3",
   "language": "python",
   "name": "python3"
  },
  "language_info": {
   "codemirror_mode": {
    "name": "ipython",
    "version": 3
   },
   "file_extension": ".py",
   "mimetype": "text/x-python",
   "name": "python",
   "nbconvert_exporter": "python",
   "pygments_lexer": "ipython3",
   "version": "3.11.1"
  }
 },
 "nbformat": 4,
 "nbformat_minor": 5
}
