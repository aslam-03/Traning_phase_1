{
 "cells": [
  {
   "cell_type": "code",
   "execution_count": 1,
   "metadata": {},
   "outputs": [
    {
     "name": "stdout",
     "output_type": "stream",
     "text": [
      "List of z-scores: [-1.07349008 -0.87831007 -0.68313005 -0.48795004 -0.29277002 -0.09759001\n",
      "  0.09759001  0.29277002  0.48795004  2.6349302 ]\n"
     ]
    }
   ],
   "source": [
    "import numpy as np\n",
    "\n",
    "dataset = np.array([1, 2, 3, 4, 5, 6, 7, 8, 9, 20])\n",
    "\n",
    "mean = np.mean(dataset)\n",
    "std = np.std(dataset, ddof=0)\n",
    "\n",
    "z_scores = (dataset - mean) / std\n",
    "\n",
    "print(\"List of z-scores:\", z_scores)\n"
   ]
  },
  {
   "cell_type": "code",
   "execution_count": 6,
   "metadata": {},
   "outputs": [
    {
     "name": "stdout",
     "output_type": "stream",
     "text": [
      "No outliers detected; all z-scores are below 3.\n"
     ]
    }
   ],
   "source": [
    "outliers = [x for x in dataset if abs(x - mean) / std > 3]\n",
    "\n",
    "if outliers:\n",
    "    print(f\"Outliers detected: {outliers}\")\n",
    "else:\n",
    "    print(\"No outliers detected; all z-scores are below 3.\")"
   ]
  }
 ],
 "metadata": {
  "kernelspec": {
   "display_name": "Python 3",
   "language": "python",
   "name": "python3"
  },
  "language_info": {
   "codemirror_mode": {
    "name": "ipython",
    "version": 3
   },
   "file_extension": ".py",
   "mimetype": "text/x-python",
   "name": "python",
   "nbconvert_exporter": "python",
   "pygments_lexer": "ipython3",
   "version": "3.11.1"
  }
 },
 "nbformat": 4,
 "nbformat_minor": 2
}
