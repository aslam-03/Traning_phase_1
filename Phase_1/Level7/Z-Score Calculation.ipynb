{
 "cells": [
  {
   "cell_type": "code",
   "execution_count": 40,
   "metadata": {},
   "outputs": [],
   "source": [
    "import numpy as np\n",
    "import math"
   ]
  },
  {
   "cell_type": "code",
   "execution_count": 41,
   "metadata": {},
   "outputs": [],
   "source": [
    "data=[2, 3, 4, 5, 6, 7]"
   ]
  },
  {
   "cell_type": "code",
   "execution_count": 42,
   "metadata": {},
   "outputs": [
    {
     "name": "stdout",
     "output_type": "stream",
     "text": [
      "4.5\n"
     ]
    }
   ],
   "source": [
    "mean=sum(data)/len(data)\n",
    "print(mean)"
   ]
  },
  {
   "cell_type": "code",
   "execution_count": 43,
   "metadata": {},
   "outputs": [],
   "source": [
    "var = [(i-mean)**2 for i in data]"
   ]
  },
  {
   "cell_type": "code",
   "execution_count": 49,
   "metadata": {},
   "outputs": [
    {
     "name": "stdout",
     "output_type": "stream",
     "text": [
      "2.9167\n"
     ]
    }
   ],
   "source": [
    "variance = sum(var)/len(data)\n",
    "print(np.round(variance,4))"
   ]
  },
  {
   "cell_type": "code",
   "execution_count": 50,
   "metadata": {},
   "outputs": [
    {
     "name": "stdout",
     "output_type": "stream",
     "text": [
      "1.7078\n"
     ]
    }
   ],
   "source": [
    "std_div=math.sqrt(variance)\n",
    "print(np.round(std_div,4))\n",
    "\n",
    "# std = [ (sum((i - mean)**2) / (len(data) - 1)) for i in data]"
   ]
  },
  {
   "cell_type": "code",
   "execution_count": 51,
   "metadata": {},
   "outputs": [
    {
     "name": "stdout",
     "output_type": "stream",
     "text": [
      "[-1.464 -0.878 -0.293  0.293  0.878  1.464]\n",
      "z_score for 5: 0.293\n"
     ]
    }
   ],
   "source": [
    "z_score=[(i-mean)/std_div for i in data]\n",
    "print(np.round(z_score,3))\n",
    "print(\"z_score for 5:\",np.round(z_score[3],3))"
   ]
  },
  {
   "cell_type": "code",
   "execution_count": 52,
   "metadata": {},
   "outputs": [
    {
     "name": "stdout",
     "output_type": "stream",
     "text": [
      "List of z-scores: [-1.46385011 -0.87831007 -0.29277002  0.29277002  0.87831007  1.46385011]\n",
      "The z-score for 5 is 0.29, meaning it's 0.29 standard deviations above the mean.\n"
     ]
    }
   ],
   "source": [
    "import numpy as np\n",
    "\n",
    "dataset = np.array([2, 3, 4, 5, 6, 7])\n",
    "\n",
    "mean = np.mean(dataset)\n",
    "std = np.std(dataset, ddof=0)\n",
    "\n",
    "z_scores = (dataset - mean) / std\n",
    "\n",
    "print(\"List of z-scores:\", z_scores)\n",
    "\n",
    "x = 5\n",
    "z_score = (x - mean) / std\n",
    "print(f\"The z-score for {x} is {z_score:.2f}, meaning it's {z_score:.2f} standard deviations above the mean.\")"
   ]
  }
 ],
 "metadata": {
  "kernelspec": {
   "display_name": "Python 3",
   "language": "python",
   "name": "python3"
  },
  "language_info": {
   "codemirror_mode": {
    "name": "ipython",
    "version": 3
   },
   "file_extension": ".py",
   "mimetype": "text/x-python",
   "name": "python",
   "nbconvert_exporter": "python",
   "pygments_lexer": "ipython3",
   "version": "3.11.1"
  }
 },
 "nbformat": 4,
 "nbformat_minor": 2
}
