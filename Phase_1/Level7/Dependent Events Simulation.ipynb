{
 "cells": [
  {
   "cell_type": "code",
   "execution_count": 149,
   "metadata": {},
   "outputs": [],
   "source": [
    "import numpy as np"
   ]
  },
  {
   "cell_type": "code",
   "execution_count": 150,
   "metadata": {},
   "outputs": [],
   "source": [
    "deck = ['queen', 'queen', 'queen', 'queen', 'ace', 'ace', 'ace', 'ace'] + \\\n",
    "       ['other'] * 44\n",
    "\n",
    "results = []\n",
    "for _ in range(1000):\n",
    "    np.random.shuffle(deck)  # Shuffle deck in every iteration\n",
    "    first_card = deck[0]\n",
    "    second_card = deck[1]\n",
    "    \n",
    "    if first_card == 'queen' and second_card == 'ace':\n",
    "        results.append((first_card, second_card))"
   ]
  },
  {
   "cell_type": "code",
   "execution_count": 151,
   "metadata": {},
   "outputs": [],
   "source": [
    "simulated_probability = len(results) / 1000\n",
    "\n",
    "theoretical_probability = (4/52) * (4/51)\n"
   ]
  },
  {
   "cell_type": "code",
   "execution_count": 152,
   "metadata": {},
   "outputs": [
    {
     "name": "stdout",
     "output_type": "stream",
     "text": [
      "Simulated probability: 0.005\n",
      "Theoretical probability: 0.006\n",
      "The simulated probability is close to the theoretical probability.\n"
     ]
    }
   ],
   "source": [
    "print(f'Simulated probability: {simulated_probability:.3f}')\n",
    "print(f'Theoretical probability: {theoretical_probability:.3f}')\n",
    "if simulated_probability >= 0.005 and simulated_probability <= 0.006:\n",
    "    print('The simulated probability is close to the theoretical probability.')\n",
    "else:\n",
    "    print('The simulated probability is not close to the theoretical probability.')"
   ]
  }
 ],
 "metadata": {
  "kernelspec": {
   "display_name": "Python 3",
   "language": "python",
   "name": "python3"
  },
  "language_info": {
   "codemirror_mode": {
    "name": "ipython",
    "version": 3
   },
   "file_extension": ".py",
   "mimetype": "text/x-python",
   "name": "python",
   "nbconvert_exporter": "python",
   "pygments_lexer": "ipython3",
   "version": "3.11.1"
  }
 },
 "nbformat": 4,
 "nbformat_minor": 2
}
