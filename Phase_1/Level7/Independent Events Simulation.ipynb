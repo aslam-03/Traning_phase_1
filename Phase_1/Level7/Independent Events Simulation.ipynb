{
 "cells": [
  {
   "cell_type": "code",
   "execution_count": 57,
   "metadata": {},
   "outputs": [],
   "source": [
    "import numpy as np"
   ]
  },
  {
   "cell_type": "code",
   "execution_count": 58,
   "metadata": {},
   "outputs": [
    {
     "name": "stdout",
     "output_type": "stream",
     "text": [
      "0.033\n"
     ]
    }
   ],
   "source": [
    "count=0\n",
    "for i in range(1000):\n",
    "    roll_1=np.random.randint(1,6)\n",
    "    roll_2=np.random.randint(1,6)\n",
    "    if roll_1==4 and roll_2==5:\n",
    "        count+=1\n",
    "\n",
    "p_simulated=count/1000\n",
    "\n",
    "print(f\"{p_simulated:.3f}\")\n"
   ]
  },
  {
   "cell_type": "code",
   "execution_count": 59,
   "metadata": {},
   "outputs": [
    {
     "name": "stdout",
     "output_type": "stream",
     "text": [
      "0.0278\n"
     ]
    }
   ],
   "source": [
    "p_5=1/6\n",
    "p_4=1/6\n",
    "\n",
    "p_theoretical=p_5*p_4\n",
    "\n",
    "print(f\"{p_theoretical:.4f}\")\n"
   ]
  },
  {
   "cell_type": "code",
   "execution_count": 63,
   "metadata": {},
   "outputs": [
    {
     "name": "stdout",
     "output_type": "stream",
     "text": [
      "Simulated probability 0.0330 and Theoretical probability is 1/36 ≈ 0.0278, close to simulation.\n"
     ]
    }
   ],
   "source": [
    "print(f\"Simulated probability {p_simulated:.4f} and Theoretical probability is 1/36 ≈ {p_theoretical:.4f}, close to simulation.\")"
   ]
  }
 ],
 "metadata": {
  "kernelspec": {
   "display_name": "Python 3",
   "language": "python",
   "name": "python3"
  },
  "language_info": {
   "codemirror_mode": {
    "name": "ipython",
    "version": 3
   },
   "file_extension": ".py",
   "mimetype": "text/x-python",
   "name": "python",
   "nbconvert_exporter": "python",
   "pygments_lexer": "ipython3",
   "version": "3.11.1"
  }
 },
 "nbformat": 4,
 "nbformat_minor": 2
}
