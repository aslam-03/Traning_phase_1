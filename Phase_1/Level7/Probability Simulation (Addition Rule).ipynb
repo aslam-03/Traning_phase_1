{
 "cells": [
  {
   "cell_type": "code",
   "execution_count": 147,
   "metadata": {},
   "outputs": [],
   "source": [
    "import numpy as np\n",
    "import random"
   ]
  },
  {
   "cell_type": "code",
   "execution_count": null,
   "metadata": {},
   "outputs": [],
   "source": [
    "rolls = np.random.randint(1, 7, 1000)"
   ]
  },
  {
   "cell_type": "code",
   "execution_count": 152,
   "metadata": {},
   "outputs": [
    {
     "name": "stdout",
     "output_type": "stream",
     "text": [
      "0.325\n"
     ]
    }
   ],
   "source": [
    "count=np.sum((rolls == 1) | (rolls == 3))\n",
    "\n",
    "simulated_p_1_or_3=count/1000\n",
    "\n",
    "print(simulated_p_1_or_3)"
   ]
  },
  {
   "cell_type": "code",
   "execution_count": 153,
   "metadata": {},
   "outputs": [
    {
     "name": "stdout",
     "output_type": "stream",
     "text": [
      "0.3333333333333333\n"
     ]
    }
   ],
   "source": [
    "p_1=1/6\n",
    "p_3=1/6\n",
    "\n",
    "theoretical_p_1_or_p_3=p_1+p_3\n",
    "\n",
    "print(theoretical_p_1_or_p_3)"
   ]
  },
  {
   "cell_type": "code",
   "execution_count": 161,
   "metadata": {},
   "outputs": [
    {
     "name": "stdout",
     "output_type": "stream",
     "text": [
      "Simulated probability: 0.325\n",
      "Theoretical probability: 0.333\n",
      "simulated probability is 0.325 and Theoretical probability is 1/3 : 0.333, close to simulation.\n"
     ]
    }
   ],
   "source": [
    "print(f\"Simulated probability: {simulated_p_1_or_3:.3f}\")\n",
    "print(f\"Theoretical probability: {theoretical_p_1_or_p_3:.3f}\")\n",
    "print(f\"simulated probability is {simulated_p_1_or_3} and Theoretical probability is 1/3 : {theoretical_p_1_or_p_3:.3f}, close to simulation.\")\n"
   ]
  }
 ],
 "metadata": {
  "kernelspec": {
   "display_name": "Python 3",
   "language": "python",
   "name": "python3"
  },
  "language_info": {
   "codemirror_mode": {
    "name": "ipython",
    "version": 3
   },
   "file_extension": ".py",
   "mimetype": "text/x-python",
   "name": "python",
   "nbconvert_exporter": "python",
   "pygments_lexer": "ipython3",
   "version": "3.11.1"
  }
 },
 "nbformat": 4,
 "nbformat_minor": 2
}
