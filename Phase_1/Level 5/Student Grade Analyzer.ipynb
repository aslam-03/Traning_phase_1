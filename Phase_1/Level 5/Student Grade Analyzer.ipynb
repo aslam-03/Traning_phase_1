{
 "cells": [
  {
   "cell_type": "code",
   "execution_count": 20,
   "metadata": {},
   "outputs": [],
   "source": [
    "Student_grades=[]"
   ]
  },
  {
   "cell_type": "code",
   "execution_count": 22,
   "metadata": {},
   "outputs": [],
   "source": [
    "for i in range(5):\n",
    "    name=input(\"Enter Student name :\")\n",
    "    grade=int(input(\"Enter Student Grade 0-100:\"))\n",
    "    Student_grades.append((name,grade))\n",
    "    \n"
   ]
  },
  {
   "cell_type": "code",
   "execution_count": 39,
   "metadata": {},
   "outputs": [
    {
     "name": "stdout",
     "output_type": "stream",
     "text": [
      "[('Aslam', 89), ('Akash', 87), ('Vamsi', 89), ('Mothie', 78), ('Suman', 88)]\n"
     ]
    }
   ],
   "source": [
    "print(Student_grades)\n"
   ]
  },
  {
   "cell_type": "code",
   "execution_count": 40,
   "metadata": {},
   "outputs": [
    {
     "data": {
      "text/plain": [
       "86.2"
      ]
     },
     "execution_count": 40,
     "metadata": {},
     "output_type": "execute_result"
    }
   ],
   "source": [
    "def Average(grade):\n",
    "    tot = 0\n",
    "    for i in range(len(grade)):\n",
    "        tot += grade[i][1]\n",
    "        avg = tot/len(grade)\n",
    "\n",
    "    return avg\n",
    "\n",
    "Average(Student_grades)\n",
    "    \n"
   ]
  },
  {
   "cell_type": "code",
   "execution_count": 41,
   "metadata": {},
   "outputs": [
    {
     "name": "stdout",
     "output_type": "stream",
     "text": [
      "Passing: 5\n"
     ]
    }
   ],
   "source": [
    "def pass_fail(grade):\n",
    "    a=0\n",
    "    for i in range(len(grade)):\n",
    "        if grade[i][1]>=60:\n",
    "            a+=1\n",
    "\n",
    "    return a\n",
    "\n",
    "print(\"Passing:\",pass_fail(Student_grades))"
   ]
  },
  {
   "cell_type": "code",
   "execution_count": 42,
   "metadata": {},
   "outputs": [
    {
     "name": "stdout",
     "output_type": "stream",
     "text": [
      "Average: 86.2 Passing: 5\n"
     ]
    }
   ],
   "source": [
    "print(\"Average:\",Average(Student_grades),\"Passing:\",pass_fail(Student_grades))"
   ]
  }
 ],
 "metadata": {
  "kernelspec": {
   "display_name": "Python 3",
   "language": "python",
   "name": "python3"
  },
  "language_info": {
   "codemirror_mode": {
    "name": "ipython",
    "version": 3
   },
   "file_extension": ".py",
   "mimetype": "text/x-python",
   "name": "python",
   "nbconvert_exporter": "python",
   "pygments_lexer": "ipython3",
   "version": "3.11.1"
  }
 },
 "nbformat": 4,
 "nbformat_minor": 2
}
