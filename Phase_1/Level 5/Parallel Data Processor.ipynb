{
 "cells": [
  {
   "cell_type": "code",
   "execution_count": 7,
   "metadata": {},
   "outputs": [],
   "source": [
    "import threading\n",
    "import logging\n",
    "import pandas as pd"
   ]
  },
  {
   "cell_type": "code",
   "execution_count": 8,
   "metadata": {},
   "outputs": [],
   "source": [
    "logging.basicConfig(filename='app.log', level=logging.INFO)\n",
    "\n",
    "logging.info('Script started')\n",
    "\n",
    "logging.info('Task completed')"
   ]
  },
  {
   "cell_type": "code",
   "execution_count": 9,
   "metadata": {},
   "outputs": [],
   "source": [
    "csv_file='data1.csv'\n",
    "def process_csv(csv_file):\n",
    "    df=pd.read_csv(csv_file)\n",
    "    score_col=df['Score']\n",
    "\n",
    "    mean_Score=score_col.mean()\n",
    "    \n",
    "    logging.info(f'Processing file: {df}')\n",
    "    logging.info(f'Mean score: {mean_Score}')\n",
    "\n",
    "    return mean_Score\n"
   ]
  },
  {
   "cell_type": "code",
   "execution_count": 10,
   "metadata": {},
   "outputs": [],
   "source": [
    "def process_csv_concurrently(csv_file1,csv_file2):\n",
    "\n",
    "\n",
    "    thread1=threading.Thread(target=process_csv,args=(csv_file1,))\n",
    "    thread2=threading.Thread(target=process_csv,args=(csv_file2,))\n",
    "\n",
    "    thread1.start()\n",
    "    thread2.start()\n",
    "\n",
    "    thread1.join()\n",
    "    thread2.join()\n",
    "\n",
    "    return process_csv(csv_file1),process_csv(csv_file2)\n"
   ]
  },
  {
   "cell_type": "code",
   "execution_count": 11,
   "metadata": {},
   "outputs": [
    {
     "name": "stdout",
     "output_type": "stream",
     "text": [
      "Mean score for data1.csv: 87.5\n",
      "Mean score for data2.csv: 90.0\n"
     ]
    }
   ],
   "source": [
    "\n",
    "def main():\n",
    "    \n",
    "    csv_file1 = 'data1.csv'\n",
    "    csv_file2 = 'data2.csv'\n",
    "\n",
    "\n",
    "    mean_score1, mean_score2 = process_csv_concurrently(csv_file1,csv_file2)\n",
    "\n",
    "    print(f'Mean score for {csv_file1}: {mean_score1}')\n",
    "    print(f'Mean score for {csv_file2}: {mean_score2}')\n",
    "\n",
    "if __name__ == '__main__':\n",
    "    main()"
   ]
  }
 ],
 "metadata": {
  "kernelspec": {
   "display_name": "Python 3",
   "language": "python",
   "name": "python3"
  },
  "language_info": {
   "codemirror_mode": {
    "name": "ipython",
    "version": 3
   },
   "file_extension": ".py",
   "mimetype": "text/x-python",
   "name": "python",
   "nbconvert_exporter": "python",
   "pygments_lexer": "ipython3",
   "version": "3.11.1"
  }
 },
 "nbformat": 4,
 "nbformat_minor": 2
}
