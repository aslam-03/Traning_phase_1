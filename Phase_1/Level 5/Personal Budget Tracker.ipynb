{
 "cells": [
  {
   "cell_type": "code",
   "execution_count": 5,
   "metadata": {},
   "outputs": [],
   "source": [
    "income_source={\"Dad\":20000,\"Mom\":10000,\"Son\":30000}\n",
    "expense_categories={\"House_rent\":7500,\"Electricity_bill\":500,\"Water_bill\":500,\"Mobile_recharge\":1500,\"Daily_expense\":10000}"
   ]
  },
  {
   "cell_type": "code",
   "execution_count": 6,
   "metadata": {},
   "outputs": [],
   "source": [
    "def Income(income_source):\n",
    "    return\n",
    "\n",
    "\n",
    "total_income=sum(income_source.values()) "
   ]
  },
  {
   "cell_type": "code",
   "execution_count": 7,
   "metadata": {},
   "outputs": [],
   "source": [
    "def Expense(expense_categories):\n",
    "        return\n",
    "\n",
    "\n",
    "total_expense=sum(expense_categories.values())"
   ]
  },
  {
   "cell_type": "code",
   "execution_count": 8,
   "metadata": {},
   "outputs": [],
   "source": [
    "Balance=total_income-total_expense"
   ]
  },
  {
   "cell_type": "code",
   "execution_count": 9,
   "metadata": {},
   "outputs": [
    {
     "name": "stdout",
     "output_type": "stream",
     "text": [
      "INCOME:60000,EXPENSE:20000,BALANCE:40000\n"
     ]
    }
   ],
   "source": [
    "print(\"INCOME:{},EXPENSE:{},BALANCE:{}\".format(total_income,total_expense,Balance))"
   ]
  },
  {
   "cell_type": "code",
   "execution_count": 10,
   "metadata": {},
   "outputs": [
    {
     "name": "stdout",
     "output_type": "stream",
     "text": [
      "Income: 4000 Expence: 2000 balance: 2000\n"
     ]
    }
   ],
   "source": [
    "def Budget_tracker(income,expence):\n",
    "    income=income\n",
    "    expence=expence\n",
    "    balance=income-expence\n",
    "\n",
    "    return income,expence,balance\n",
    "    \n",
    "    \n",
    "res=Budget_tracker(6000,4000)\n",
    "print(\"Income:\",res[1],\"Expence:\",res[2],\"balance:\",res[1]-res[2])"
   ]
  }
 ],
 "metadata": {
  "kernelspec": {
   "display_name": "Python 3",
   "language": "python",
   "name": "python3"
  },
  "language_info": {
   "codemirror_mode": {
    "name": "ipython",
    "version": 3
   },
   "file_extension": ".py",
   "mimetype": "text/x-python",
   "name": "python",
   "nbconvert_exporter": "python",
   "pygments_lexer": "ipython3",
   "version": "3.11.1"
  }
 },
 "nbformat": 4,
 "nbformat_minor": 2
}
