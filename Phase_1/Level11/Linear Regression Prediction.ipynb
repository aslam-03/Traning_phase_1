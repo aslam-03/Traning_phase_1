{
 "cells": [
  {
   "cell_type": "code",
   "execution_count": 39,
   "metadata": {},
   "outputs": [],
   "source": [
    "import pandas as pd\n",
    "import numpy as np\n",
    "import matplotlib.pyplot as plt\n",
    "from sklearn.model_selection import train_test_split\n",
    "from sklearn.linear_model import LinearRegression\n",
    "from sklearn.metrics import r2_score, mean_squared_error"
   ]
  },
  {
   "cell_type": "code",
   "execution_count": 40,
   "metadata": {},
   "outputs": [
    {
     "name": "stdout",
     "output_type": "stream",
     "text": [
      "   property_id  location_id  \\\n",
      "0       237062         3325   \n",
      "1       346905         3236   \n",
      "2       386513          764   \n",
      "3       656161          340   \n",
      "4       841645         3226   \n",
      "\n",
      "                                            page_url property_type     price  \\\n",
      "0  https://www.zameen.com/Property/g_10_g_10_2_gr...          Flat  10000000   \n",
      "1  https://www.zameen.com/Property/e_11_2_service...          Flat   6900000   \n",
      "2  https://www.zameen.com/Property/islamabad_g_15...         House  16500000   \n",
      "3  https://www.zameen.com/Property/islamabad_bani...         House  43500000   \n",
      "4  https://www.zameen.com/Property/dha_valley_dha...         House   7000000   \n",
      "\n",
      "      location       city      province_name   latitude  longitude  baths  \\\n",
      "0         G-10  Islamabad  Islamabad Capital  33.679890  73.012640      2   \n",
      "1         E-11  Islamabad  Islamabad Capital  33.700993  72.971492      3   \n",
      "2         G-15  Islamabad  Islamabad Capital  33.631486  72.926559      6   \n",
      "3    Bani Gala  Islamabad  Islamabad Capital  33.707573  73.151199      4   \n",
      "4  DHA Defence  Islamabad  Islamabad Capital  33.492591  73.301339      3   \n",
      "\n",
      "        area   purpose  bedrooms  date_added         agency  \\\n",
      "0    4 Marla  For Sale         2  02-04-2019            NaN   \n",
      "1  5.6 Marla  For Sale         3  05-04-2019            NaN   \n",
      "2    8 Marla  For Sale         5  07-17-2019            NaN   \n",
      "3    2 Kanal  For Sale         4  04-05-2019            NaN   \n",
      "4    8 Marla  For Sale         3  07-10-2019  Easy Property   \n",
      "\n",
      "                                          agent Area Type  Area Size  \\\n",
      "0                                           NaN     Marla        4.0   \n",
      "1                                           NaN     Marla        5.6   \n",
      "2                                           NaN     Marla        8.0   \n",
      "3                                           NaN     Kanal        2.0   \n",
      "4  Muhammad Junaid Ceo Muhammad Shahid Director     Marla        8.0   \n",
      "\n",
      "  Area Category  \n",
      "0     0-5 Marla  \n",
      "1    5-10 Marla  \n",
      "2    5-10 Marla  \n",
      "3     1-5 Kanal  \n",
      "4    5-10 Marla  \n",
      "<class 'pandas.core.frame.DataFrame'>\n",
      "RangeIndex: 168446 entries, 0 to 168445\n",
      "Data columns (total 20 columns):\n",
      " #   Column         Non-Null Count   Dtype  \n",
      "---  ------         --------------   -----  \n",
      " 0   property_id    168446 non-null  int64  \n",
      " 1   location_id    168446 non-null  int64  \n",
      " 2   page_url       168446 non-null  object \n",
      " 3   property_type  168446 non-null  object \n",
      " 4   price          168446 non-null  int64  \n",
      " 5   location       168446 non-null  object \n",
      " 6   city           168446 non-null  object \n",
      " 7   province_name  168446 non-null  object \n",
      " 8   latitude       168446 non-null  float64\n",
      " 9   longitude      168446 non-null  float64\n",
      " 10  baths          168446 non-null  int64  \n",
      " 11  area           168446 non-null  object \n",
      " 12  purpose        168446 non-null  object \n",
      " 13  bedrooms       168446 non-null  int64  \n",
      " 14  date_added     168446 non-null  object \n",
      " 15  agency         124375 non-null  object \n",
      " 16  agent          124374 non-null  object \n",
      " 17  Area Type      168446 non-null  object \n",
      " 18  Area Size      168446 non-null  float64\n",
      " 19  Area Category  168446 non-null  object \n",
      "dtypes: float64(3), int64(5), object(12)\n",
      "memory usage: 25.7+ MB\n",
      "None\n"
     ]
    }
   ],
   "source": [
    "df = pd.read_csv('House_Price_dataset.csv')\n",
    "\n",
    "\n",
    "print(df.head())\n",
    "print(df.info())\n"
   ]
  },
  {
   "cell_type": "code",
   "execution_count": 41,
   "metadata": {},
   "outputs": [],
   "source": [
    "feature = 'area'  \n",
    "target = 'price'   \n",
    "\n",
    "df['area'] = df['area'].str.extract(r'(\\d+\\.\\d+|\\d+)').astype(float)\n",
    "df = df.dropna(subset=[feature, target])\n",
    "\n",
    "X = df[[feature]]\n",
    "y = df[target]"
   ]
  },
  {
   "cell_type": "code",
   "execution_count": 42,
   "metadata": {},
   "outputs": [],
   "source": [
    "\n",
    "X_train, X_test, y_train, y_test = train_test_split(X, y, test_size=0.2, random_state=42)"
   ]
  },
  {
   "cell_type": "code",
   "execution_count": 43,
   "metadata": {},
   "outputs": [],
   "source": [
    "model = LinearRegression()\n",
    "model.fit(X_train, y_train)\n",
    "\n",
    "y_pred = model.predict(X_test)"
   ]
  },
  {
   "cell_type": "code",
   "execution_count": 44,
   "metadata": {},
   "outputs": [
    {
     "data": {
      "image/png": "[encoded data removed]",
      "text/plain": [
       "<Figure size 640x480 with 1 Axes>"
      ]
     },
     "metadata": {},
     "output_type": "display_data"
    }
   ],
   "source": [
    "plt.scatter(X_test, y_test, color=\"blue\", label=\"Actual Values\")\n",
    "plt.plot(X_test, y_pred, color=\"red\", linewidth=2, label=\"Regression Line\")\n",
    "plt.xlabel(feature)\n",
    "plt.ylabel(target)\n",
    "plt.legend()\n",
    "plt.title(\"Linear Regression Prediction\")\n",
    "plt.show()"
   ]
  },
  {
   "cell_type": "code",
   "execution_count": 45,
   "metadata": {},
   "outputs": [
    {
     "name": "stdout",
     "output_type": "stream",
     "text": [
      "R²: 0.0002463700263817259\n",
      "MSE: 1158833564692662.75\n"
     ]
    }
   ],
   "source": [
    "\n",
    "r2 = r2_score(y_test, y_pred)\n",
    "mse = mean_squared_error(y_test, y_pred)\n",
    "print(f'R²: {r2}')\n",
    "print(f'MSE: {mse:.2f}')"
   ]
  }
 ],
 "metadata": {
  "kernelspec": {
   "display_name": "Python 3",
   "language": "python",
   "name": "python3"
  },
  "language_info": {
   "codemirror_mode": {
    "name": "ipython",
    "version": 3
   },
   "file_extension": ".py",
   "mimetype": "text/x-python",
   "name": "python",
   "nbconvert_exporter": "python",
   "pygments_lexer": "ipython3",
   "version": "3.11.1"
  }
 },
 "nbformat": 4,
 "nbformat_minor": 2
}
