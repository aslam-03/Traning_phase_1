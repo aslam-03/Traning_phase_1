{
 "cells": [
  {
   "cell_type": "code",
   "execution_count": 31,
   "id": "f8df001c",
   "metadata": {},
   "outputs": [],
   "source": [
    "from zenml import step, pipeline\n",
    "from zenml.client import Client\n",
    "import mlflow\n",
    "import pandas as pd\n",
    "from sklearn.linear_model import LinearRegression\n",
    "from sklearn.model_selection import train_test_split\n",
    "from sklearn.metrics import mean_squared_error,r2_score\n",
    "from sklearn.datasets import load_diabetes\n",
    "from sklearn.linear_model import LinearRegression\n",
    "from sklearn.model_selection import train_test_split\n",
    "from sklearn.metrics import mean_squared_error, r2_score\n",
    "import pandas as pd"
   ]
  },
  {
   "cell_type": "code",
   "execution_count": 32,
   "id": "b869a552",
   "metadata": {},
   "outputs": [],
   "source": [
    "\n",
    "experiment_tracker = Client().active_stack.experiment_tracker"
   ]
  },
  {
   "cell_type": "code",
   "execution_count": 33,
   "id": "39f4c66c",
   "metadata": {},
   "outputs": [],
   "source": [
    "\n",
    "@step\n",
    "def ingest_data() -> pd.DataFrame:\n",
    "    \"\"\"Loads the diabetes dataset.\"\"\"\n",
    "    diabetes = load_diabetes()\n",
    "    data = pd.DataFrame(diabetes.data, columns=diabetes.feature_names)\n",
    "    data['target'] = diabetes.target\n",
    "    return data"
   ]
  },
  {
   "cell_type": "code",
   "execution_count": 34,
   "id": "adb298a3",
   "metadata": {},
   "outputs": [],
   "source": [
    "\n",
    "@step\n",
    "def clean_data(data: pd.DataFrame) -> pd.DataFrame:\n",
    "    \"\"\"Cleans the data by dropping null values.\"\"\"\n",
    "    return data.dropna()"
   ]
  },
  {
   "cell_type": "code",
   "execution_count": 35,
   "id": "83fa28be",
   "metadata": {},
   "outputs": [],
   "source": [
    "\n",
    "@step(experiment_tracker=experiment_tracker)\n",
    "def train_model(data: pd.DataFrame) -> LinearRegression:\n",
    "    \"\"\"Trains a linear regression model with MLflow tracking.\"\"\"\n",
    "    mlflow.sklearn.autolog()\n",
    "    \n",
    "    X = data.drop('target', axis=1)\n",
    "    y = data['target']\n",
    "    X_train, _, y_train, _ = train_test_split(X, y, test_size=0.2, random_state=42)\n",
    "    \n",
    "    with mlflow.start_run():\n",
    "        model = LinearRegression()\n",
    "        model.fit(X_train, y_train)\n",
    "    \n",
    "    return model"
   ]
  },
  {
   "cell_type": "code",
   "execution_count": 36,
   "id": "953e2db1",
   "metadata": {},
   "outputs": [],
   "source": [
    "\n",
    "@step(experiment_tracker=experiment_tracker)\n",
    "def evaluate_model(model: LinearRegression, data: pd.DataFrame) -> None:\n",
    "    \"\"\"Evaluates the model and logs metrics to MLflow.\"\"\"\n",
    "    X = data.drop('target', axis=1)\n",
    "    y = data['target']\n",
    "    _, X_test, _, y_test = train_test_split(X, y, test_size=0.2, random_state=42)\n",
    "    \n",
    "    with mlflow.start_run():\n",
    "        y_pred = model.predict(X_test)\n",
    "        mse = mean_squared_error(y_test, y_pred)\n",
    "        r2 = r2_score(y_test, y_pred)\n",
    "        \n",
    "        mlflow.log_metric(\"mse\", mse)\n",
    "        mlflow.log_metric(\"r2\", r2)"
   ]
  },
  {
   "cell_type": "code",
   "execution_count": 37,
   "id": "47cd1664",
   "metadata": {},
   "outputs": [],
   "source": [
    "\n",
    "@pipeline\n",
    "def Mlflow_pipeline():\n",
    "    \"\"\"Basic regression pipeline.\"\"\"\n",
    "    data = ingest_data()\n",
    "    cleaned_data = clean_data(data)\n",
    "    model = train_model(cleaned_data)\n",
    "    evaluate_model(model, cleaned_data)"
   ]
  },
  {
   "cell_type": "code",
   "execution_count": 38,
   "id": "42b47a23",
   "metadata": {},
   "outputs": [
    {
     "name": "stdout",
     "output_type": "stream",
     "text": [
      "\u001b[1;35mInitiating a new run for the pipeline: \u001b[0m\u001b[1;36mMlflow_pipeline\u001b[1;35m.\u001b[0m\n",
      "\u001b[1;35mRegistered new pipeline: \u001b[0m\u001b[1;36mMlflow_pipeline\u001b[1;35m.\u001b[0m\n",
      "\u001b[1;35mUsing user: \u001b[0m\u001b[1;36mdefault\u001b[1;35m\u001b[0m\n",
      "\u001b[1;35mUsing stack: \u001b[0m\u001b[1;36mdefault\u001b[1;35m\u001b[0m\n",
      "\u001b[1;35m  orchestrator: \u001b[0m\u001b[1;36mdefault\u001b[1;35m\u001b[0m\n",
      "\u001b[1;35m  artifact_store: \u001b[0m\u001b[1;36mdefault\u001b[1;35m\u001b[0m\n",
      "\u001b[1;35mYou can visualize your pipeline runs in the \u001b[0m\u001b[1;36mZenML Dashboard\u001b[1;35m. In order to try it locally, please run \u001b[0m\u001b[1;36mzenml login --local\u001b[1;35m.\u001b[0m\n",
      "\u001b[1;35mUsing cached version of step \u001b[0m\u001b[1;36mingest_data\u001b[1;35m.\u001b[0m\n",
      "\u001b[1;35mUsing cached version of step \u001b[0m\u001b[1;36mclean_data\u001b[1;35m.\u001b[0m\n",
      "\u001b[1;35mUsing cached version of step \u001b[0m\u001b[1;36mtrain_model\u001b[1;35m.\u001b[0m\n",
      "\u001b[1;35mUsing cached version of step \u001b[0m\u001b[1;36mevaluate_model\u001b[1;35m.\u001b[0m\n",
      "\u001b[1;35mAll steps of the pipeline run were cached.\u001b[0m\n"
     ]
    }
   ],
   "source": [
    "\n",
    "if __name__ == \"__main__\":\n",
    "    Mlflow_pipeline()"
   ]
  }
 ],
 "metadata": {
  "kernelspec": {
   "display_name": "Python 3",
   "language": "python",
   "name": "python3"
  },
  "language_info": {
   "codemirror_mode": {
    "name": "ipython",
    "version": 3
   },
   "file_extension": ".py",
   "mimetype": "text/x-python",
   "name": "python",
   "nbconvert_exporter": "python",
   "pygments_lexer": "ipython3",
   "version": "3.11.1"
  }
 },
 "nbformat": 4,
 "nbformat_minor": 5
}
