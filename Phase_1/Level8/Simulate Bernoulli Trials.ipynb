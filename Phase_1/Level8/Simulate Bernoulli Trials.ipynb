{
 "cells": [
  {
   "cell_type": "code",
   "execution_count": 14,
   "metadata": {},
   "outputs": [],
   "source": [
    "import numpy as np"
   ]
  },
  {
   "cell_type": "code",
   "execution_count": 15,
   "metadata": {},
   "outputs": [],
   "source": [
    "n=1\n",
    "p=0.3\n",
    "size=1000"
   ]
  },
  {
   "cell_type": "code",
   "execution_count": 16,
   "metadata": {},
   "outputs": [
    {
     "name": "stdout",
     "output_type": "stream",
     "text": [
      "Simulated P = 0.304\n",
      "Matches theoretical P = 0.300 for Bernoulli trial.\n"
     ]
    }
   ],
   "source": [
    "trail1=np.random.binomial(n,p,size)\n",
    "trail1\n",
    "success_probability=trail1.mean()\n",
    "print(f\"Simulated P = {success_probability:.3f}\")\n",
    "print(f\"Matches theoretical P = {p:.3f} for Bernoulli trial.\")"
   ]
  }
 ],
 "metadata": {
  "kernelspec": {
   "display_name": "Python 3",
   "language": "python",
   "name": "python3"
  },
  "language_info": {
   "codemirror_mode": {
    "name": "ipython",
    "version": 3
   },
   "file_extension": ".py",
   "mimetype": "text/x-python",
   "name": "python",
   "nbconvert_exporter": "python",
   "pygments_lexer": "ipython3",
   "version": "3.11.1"
  }
 },
 "nbformat": 4,
 "nbformat_minor": 2
}
