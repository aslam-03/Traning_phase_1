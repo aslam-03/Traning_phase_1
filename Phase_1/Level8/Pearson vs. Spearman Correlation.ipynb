{
 "cells": [
  {
   "cell_type": "code",
   "execution_count": 14,
   "metadata": {},
   "outputs": [],
   "source": [
    "import scipy.stats as stats "
   ]
  },
  {
   "cell_type": "code",
   "execution_count": 15,
   "metadata": {},
   "outputs": [],
   "source": [
    "height = [160, 170, 180, 175]\n",
    "weight = [60, 70, 75, 65]"
   ]
  },
  {
   "cell_type": "code",
   "execution_count": 16,
   "metadata": {},
   "outputs": [
    {
     "name": "stdout",
     "output_type": "stream",
     "text": [
      "Pearson : 0.83\n",
      "Spearman : 0.80\n"
     ]
    }
   ],
   "source": [
    "pearson,_= stats.pearsonr(height, weight)\n",
    "spearman,_= stats.spearmanr(height,weight)\n",
    "\n",
    "print(f\"Pearson : {pearson:.2f}\")\n",
    "print(f\"Spearman : {spearman:.2f}\")"
   ]
  },
  {
   "cell_type": "code",
   "execution_count": 17,
   "metadata": {},
   "outputs": [
    {
     "name": "stdout",
     "output_type": "stream",
     "text": [
      "Both show positive correlation; Pearson correlation is higher due to near-linear relationship.\n"
     ]
    }
   ],
   "source": [
    "if pearson > spearman:\n",
    "    print(\"Both show positive correlation; Pearson correlation is higher due to near-linear relationship.\")\n",
    "else:\n",
    "    print(\"Both show positive correlation; Pearson correlation is not higher due to near-linear relationship.\")"
   ]
  }
 ],
 "metadata": {
  "kernelspec": {
   "display_name": "Python 3",
   "language": "python",
   "name": "python3"
  },
  "language_info": {
   "codemirror_mode": {
    "name": "ipython",
    "version": 3
   },
   "file_extension": ".py",
   "mimetype": "text/x-python",
   "name": "python",
   "nbconvert_exporter": "python",
   "pygments_lexer": "ipython3",
   "version": "3.11.1"
  }
 },
 "nbformat": 4,
 "nbformat_minor": 2
}
