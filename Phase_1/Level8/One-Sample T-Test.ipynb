{
 "cells": [
  {
   "cell_type": "code",
   "execution_count": 11,
   "metadata": {},
   "outputs": [],
   "source": [
    "import scipy.stats as stats\n",
    "import numpy as np "
   ]
  },
  {
   "cell_type": "code",
   "execution_count": null,
   "metadata": {},
   "outputs": [
    {
     "name": "stdout",
     "output_type": "stream",
     "text": [
      "T_Score : 10.495\n",
      "P_Value : 0.000\n"
     ]
    }
   ],
   "source": [
    "population_mean=100\n",
    "n=30\n",
    "sample_std=20\n",
    "alpha=0.05\n",
    "\n",
    "data=np.random.normal(140,sample_std,n)\n",
    "\n",
    "t_score,p_value=stats.ttest_1samp(data,popmean=100)\n",
    "\n",
    "print(f\"T_Score : {t_score:.3f}\")\n",
    "print(f\"P_Value : {p_value:.3f}\")"
   ]
  },
  {
   "cell_type": "code",
   "execution_count": 13,
   "metadata": {},
   "outputs": [
    {
     "name": "stdout",
     "output_type": "stream",
     "text": [
      "Reject H₀; medication increases IQ (mean = 140 > 100).\n"
     ]
    }
   ],
   "source": [
    "if p_value < alpha:\n",
    "    print(\"Reject H₀; medication increases IQ (mean = 140 > 100).\")\n",
    "else:\n",
    "    print(\"Fail to reject H₀: medication does not affect IQ.\")"
   ]
  }
 ],
 "metadata": {
  "kernelspec": {
   "display_name": "Python 3",
   "language": "python",
   "name": "python3"
  },
  "language_info": {
   "codemirror_mode": {
    "name": "ipython",
    "version": 3
   },
   "file_extension": ".py",
   "mimetype": "text/x-python",
   "name": "python",
   "nbconvert_exporter": "python",
   "pygments_lexer": "ipython3",
   "version": "3.11.1"
  }
 },
 "nbformat": 4,
 "nbformat_minor": 2
}
