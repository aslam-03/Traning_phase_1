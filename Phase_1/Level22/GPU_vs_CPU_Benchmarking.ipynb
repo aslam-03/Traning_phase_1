{
 "cells": [
  {
   "cell_type": "code",
   "execution_count": 10,
   "id": "9ac2a10c",
   "metadata": {},
   "outputs": [],
   "source": [
    "import tensorflow as tf\n",
    "from tensorflow.keras.datasets import mnist\n",
    "from tensorflow.keras.models import Sequential\n",
    "from tensorflow.keras.layers import Dense, Flatten\n",
    "import time\n",
    "import pandas as pd\n"
   ]
  },
  {
   "cell_type": "code",
   "execution_count": 11,
   "id": "35930c25",
   "metadata": {},
   "outputs": [],
   "source": [
    "(x_train, y_train), (x_test, y_test) = mnist.load_data()\n",
    "x_train, x_test = x_train / 255.0, x_test / 255.0  # Normalize"
   ]
  },
  {
   "cell_type": "code",
   "execution_count": 12,
   "id": "3f68fa60",
   "metadata": {},
   "outputs": [],
   "source": [
    "def create_model():\n",
    "    model = Sequential([\n",
    "        Flatten(input_shape=(28, 28)),\n",
    "        Dense(128, activation='relu'),\n",
    "        Dense(10, activation='softmax')\n",
    "    ])\n",
    "    model.compile(optimizer='adam',\n",
    "                 loss='sparse_categorical_crossentropy',\n",
    "                 metrics=['accuracy'])\n",
    "    return model\n"
   ]
  },
  {
   "cell_type": "code",
   "execution_count": 13,
   "id": "372d906a",
   "metadata": {},
   "outputs": [
    {
     "name": "stdout",
     "output_type": "stream",
     "text": [
      "=== GPU vs CPU Benchmark ===\n",
      "Running CPU benchmark...\n",
      "WARNING:tensorflow:From c:\\Users\\ASLAM\\AppData\\Local\\Programs\\Python\\Python311\\Lib\\site-packages\\keras\\src\\backend.py:873: The name tf.get_default_graph is deprecated. Please use tf.compat.v1.get_default_graph instead.\n",
      "\n",
      "WARNING:tensorflow:From c:\\Users\\ASLAM\\AppData\\Local\\Programs\\Python\\Python311\\Lib\\site-packages\\keras\\src\\optimizers\\__init__.py:309: The name tf.train.Optimizer is deprecated. Please use tf.compat.v1.train.Optimizer instead.\n",
      "\n",
      "WARNING:tensorflow:From c:\\Users\\ASLAM\\AppData\\Local\\Programs\\Python\\Python311\\Lib\\site-packages\\keras\\src\\utils\\tf_utils.py:492: The name tf.ragged.RaggedTensorValue is deprecated. Please use tf.compat.v1.ragged.RaggedTensorValue instead.\n",
      "\n",
      "WARNING:tensorflow:From c:\\Users\\ASLAM\\AppData\\Local\\Programs\\Python\\Python311\\Lib\\site-packages\\keras\\src\\engine\\base_layer_utils.py:384: The name tf.executing_eagerly_outside_functions is deprecated. Please use tf.compat.v1.executing_eagerly_outside_functions instead.\n",
      "\n",
      "CPU Time: 26.16s | Accuracy: 0.9767\n",
      "\n",
      "No GPU detected! Check CUDA/cuDNN installation.\n"
     ]
    }
   ],
   "source": [
    "def benchmark(device_name):\n",
    "    with tf.device(device_name):\n",
    "        model = create_model()\n",
    "        start_time = time.time()\n",
    "        model.fit(x_train, y_train, epochs=5, batch_size=32, verbose=0)\n",
    "        training_time = time.time() - start_time\n",
    "        _, accuracy = model.evaluate(x_test, y_test, verbose=0)\n",
    "        return training_time, accuracy\n",
    "\n",
    "# Run benchmarks\n",
    "print(\"=== GPU vs CPU Benchmark ===\")\n",
    "print(\"Running CPU benchmark...\")\n",
    "cpu_time, cpu_acc = benchmark('/CPU:0')\n",
    "print(f\"CPU Time: {cpu_time:.2f}s | Accuracy: {cpu_acc:.4f}\")\n",
    "\n",
    "if tf.config.list_physical_devices('GPU'):\n",
    "    print(\"\\nRunning GPU benchmark...\")\n",
    "    gpu_time, gpu_acc = benchmark('/GPU:0')\n",
    "    print(f\"GPU Time: {gpu_time:.2f}s | Accuracy: {gpu_acc:.4f}\")\n",
    "    print(f\"\\nSpeedup Factor: {cpu_time/gpu_time:.1f}x\")\n",
    "else:\n",
    "    print(\"\\nNo GPU detected! Check CUDA/cuDNN installation.\")"
   ]
  },
  {
   "cell_type": "code",
   "execution_count": 14,
   "id": "f8c01946",
   "metadata": {},
   "outputs": [
    {
     "name": "stdout",
     "output_type": "stream",
     "text": [
      "Starting benchmarks...\n",
      "Available GPUs: []\n",
      "\n",
      "Running CPU benchmark...\n"
     ]
    }
   ],
   "source": [
    "print(\"Starting benchmarks...\")\n",
    "print(f\"Available GPUs: {tf.config.list_physical_devices('GPU')}\\n\")\n",
    "\n",
    "print(\"Running CPU benchmark...\")\n",
    "cpu_time, cpu_acc = benchmark('/CPU:0')\n"
   ]
  },
  {
   "cell_type": "code",
   "execution_count": 15,
   "id": "79e86582",
   "metadata": {},
   "outputs": [
    {
     "name": "stdout",
     "output_type": "stream",
     "text": [
      "\n",
      "No GPU available, skipping GPU benchmark\n"
     ]
    }
   ],
   "source": [
    "gpu_time, gpu_acc = None, None\n",
    "if tf.config.list_physical_devices('GPU'):\n",
    "    print(\"\\nRunning GPU benchmark...\")\n",
    "    gpu_time, gpu_acc = benchmark('/GPU:0')\n",
    "else:\n",
    "    print(\"\\nNo GPU available, skipping GPU benchmark\")\n"
   ]
  },
  {
   "cell_type": "code",
   "execution_count": 16,
   "id": "05b7b74e",
   "metadata": {},
   "outputs": [
    {
     "name": "stdout",
     "output_type": "stream",
     "text": [
      "\n",
      "Benchmark Results:\n",
      "Device  Training Time (s)  Test Accuracy  Speedup Factor\n",
      "   CPU          24.600861         0.9757             1.0\n",
      "   GPU                NaN            NaN             NaN\n"
     ]
    }
   ],
   "source": [
    "results = pd.DataFrame({\n",
    "    'Device': ['CPU', 'GPU'],\n",
    "    'Training Time (s)': [cpu_time, gpu_time],\n",
    "    'Test Accuracy': [cpu_acc, gpu_acc],\n",
    "    'Speedup Factor': [1.0, cpu_time/gpu_time if gpu_time else None]\n",
    "})\n",
    "\n",
    "print(\"\\nBenchmark Results:\")\n",
    "print(results.to_string(index=False))\n"
   ]
  },
  {
   "cell_type": "code",
   "execution_count": 17,
   "id": "584188f5",
   "metadata": {},
   "outputs": [
    {
     "name": "stdout",
     "output_type": "stream",
     "text": [
      "TensorFlow Version: 2.15.0\n",
      "GPU Available: []\n"
     ]
    }
   ],
   "source": [
    "import tensorflow as tf\n",
    "print(\"TensorFlow Version:\", tf.__version__)\n",
    "print(\"GPU Available:\", tf.config.list_physical_devices('GPU'))"
   ]
  }
 ],
 "metadata": {
  "kernelspec": {
   "display_name": "Python 3",
   "language": "python",
   "name": "python3"
  },
  "language_info": {
   "codemirror_mode": {
    "name": "ipython",
    "version": 3
   },
   "file_extension": ".py",
   "mimetype": "text/x-python",
   "name": "python",
   "nbconvert_exporter": "python",
   "pygments_lexer": "ipython3",
   "version": "3.11.1"
  }
 },
 "nbformat": 4,
 "nbformat_minor": 5
}
