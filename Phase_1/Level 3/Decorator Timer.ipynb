{
 "cells": [
  {
   "cell_type": "code",
   "execution_count": 26,
   "metadata": {},
   "outputs": [
    {
     "name": "stdout",
     "output_type": "stream",
     "text": [
      "1.000572681427002 Seconds\n"
     ]
    }
   ],
   "source": [
    "import time\n",
    "def Decorator(func):\n",
    "    def wrap():\n",
    "        start_time=time.time()\n",
    "        func()\n",
    "        end_time=time.time()\n",
    "        print(end_time-start_time,\"Seconds\")\n",
    "    return wrap\n",
    "\n",
    "\n",
    "@Decorator       \n",
    "def sample():\n",
    "    time.sleep(1)\n",
    "\n",
    "sample()    \n",
    "\n",
    "\n"
   ]
  }
 ],
 "metadata": {
  "kernelspec": {
   "display_name": "Python 3",
   "language": "python",
   "name": "python3"
  },
  "language_info": {
   "codemirror_mode": {
    "name": "ipython",
    "version": 3
   },
   "file_extension": ".py",
   "mimetype": "text/x-python",
   "name": "python",
   "nbconvert_exporter": "python",
   "pygments_lexer": "ipython3",
   "version": "3.11.1"
  }
 },
 "nbformat": 4,
 "nbformat_minor": 2
}
