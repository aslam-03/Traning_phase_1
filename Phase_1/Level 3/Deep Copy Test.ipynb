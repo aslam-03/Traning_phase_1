{
 "cells": [
  {
   "cell_type": "code",
   "execution_count": 11,
   "metadata": {},
   "outputs": [
    {
     "name": "stdout",
     "output_type": "stream",
     "text": [
      "Original list: [[9, 2], [3, 4]] Shallow copy list: [[9, 2], [3, 4]] Deep copy List [[8, 2], [3, 4]]\n"
     ]
    }
   ],
   "source": [
    "import copy\n",
    "\n",
    "lst1=[[1,2],[3,4]]\n",
    "\n",
    "shallow_lst=lst1.copy()\n",
    "\n",
    "deep_lst=copy.deepcopy(lst1)\n",
    "\n",
    "shallow_lst[0][0]=9\n",
    "\n",
    "deep_lst[0][0]=8\n",
    "\n",
    "print(\"Original list:\",lst1,\"Shallow copy list:\",shallow_lst,\"Deep copy List\",deep_lst)\n"
   ]
  }
 ],
 "metadata": {
  "kernelspec": {
   "display_name": "Python 3",
   "language": "python",
   "name": "python3"
  },
  "language_info": {
   "codemirror_mode": {
    "name": "ipython",
    "version": 3
   },
   "file_extension": ".py",
   "mimetype": "text/x-python",
   "name": "python",
   "nbconvert_exporter": "python",
   "pygments_lexer": "ipython3",
   "version": "3.11.1"
  }
 },
 "nbformat": 4,
 "nbformat_minor": 2
}
