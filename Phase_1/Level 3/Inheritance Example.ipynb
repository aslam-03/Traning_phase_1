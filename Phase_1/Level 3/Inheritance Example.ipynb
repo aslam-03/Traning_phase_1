{
 "cells": [
  {
   "cell_type": "code",
   "execution_count": 21,
   "metadata": {},
   "outputs": [
    {
     "name": "stdout",
     "output_type": "stream",
     "text": [
      "woof\n"
     ]
    }
   ],
   "source": [
    "class Animal:\n",
    "    def __init__(self,sound):\n",
    "        self.sound=sound\n",
    "    def bark(self):\n",
    "        print(self.sound)\n",
    "\n",
    "class Dog(Animal):\n",
    "    def __init__(self, sound):\n",
    "        super().__init__(sound)\n",
    "\n",
    "dog1=Dog(\"woof\")\n",
    "dog1.bark()"
   ]
  }
 ],
 "metadata": {
  "kernelspec": {
   "display_name": "Python 3",
   "language": "python",
   "name": "python3"
  },
  "language_info": {
   "codemirror_mode": {
    "name": "ipython",
    "version": 3
   },
   "file_extension": ".py",
   "mimetype": "text/x-python",
   "name": "python",
   "nbconvert_exporter": "python",
   "pygments_lexer": "ipython3",
   "version": "3.11.1"
  }
 },
 "nbformat": 4,
 "nbformat_minor": 2
}
