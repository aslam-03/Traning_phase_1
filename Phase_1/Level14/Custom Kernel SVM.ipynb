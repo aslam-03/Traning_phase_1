{
 "cells": [
  {
   "cell_type": "code",
   "execution_count": 23,
   "id": "dc30ae9e",
   "metadata": {},
   "outputs": [],
   "source": [
    "import numpy as np\n",
    "from sklearn.datasets import make_moons\n",
    "from sklearn.model_selection import train_test_split\n",
    "from sklearn.preprocessing import StandardScaler\n",
    "from sklearn.svm import SVC\n",
    "from sklearn.metrics import accuracy_score\n"
   ]
  },
  {
   "cell_type": "code",
   "execution_count": 24,
   "id": "9a1826b9",
   "metadata": {},
   "outputs": [],
   "source": [
    "X, y = make_moons(n_samples=300, noise=0.25, random_state=42)\n"
   ]
  },
  {
   "cell_type": "code",
   "execution_count": 25,
   "id": "b6eb81c0",
   "metadata": {},
   "outputs": [],
   "source": [
    "scaler = StandardScaler()\n",
    "X_scaled = scaler.fit_transform(X)\n"
   ]
  },
  {
   "cell_type": "code",
   "execution_count": 26,
   "id": "fdb75f71",
   "metadata": {},
   "outputs": [],
   "source": [
    "X_train, X_test, y_train, y_test = train_test_split(X_scaled, y, test_size=0.3, random_state=42)"
   ]
  },
  {
   "cell_type": "code",
   "execution_count": 27,
   "id": "e6aa0cb6",
   "metadata": {},
   "outputs": [],
   "source": [
    "def custom_poly_kernel(X1, X2):\n",
    "    return (X1 @ X2.T + 1) ** 2"
   ]
  },
  {
   "cell_type": "code",
   "execution_count": 28,
   "id": "2b0e3142",
   "metadata": {},
   "outputs": [],
   "source": [
    "K_train = custom_poly_kernel(X_train, X_train)\n",
    "K_test = custom_poly_kernel(X_test, X_train)  "
   ]
  },
  {
   "cell_type": "code",
   "execution_count": 29,
   "id": "d8915294",
   "metadata": {},
   "outputs": [],
   "source": [
    "svc_custom = SVC(kernel='precomputed')\n",
    "svc_custom.fit(K_train, y_train)\n",
    "y_pred_custom = svc_custom.predict(K_test)\n",
    "acc_custom = accuracy_score(y_test, y_pred_custom)"
   ]
  },
  {
   "cell_type": "code",
   "execution_count": 30,
   "id": "73be41b5",
   "metadata": {},
   "outputs": [],
   "source": [
    "svc_poly = SVC(kernel='poly', degree=2, coef0=1)\n",
    "svc_poly.fit(X_train, y_train)\n",
    "acc_poly = accuracy_score(y_test, svc_poly.predict(X_test))"
   ]
  },
  {
   "cell_type": "code",
   "execution_count": 31,
   "id": "aa35b767",
   "metadata": {},
   "outputs": [],
   "source": [
    "svc_rbf = SVC(kernel='rbf')\n",
    "svc_rbf.fit(X_train, y_train)\n",
    "acc_rbf = accuracy_score(y_test, svc_rbf.predict(X_test))"
   ]
  },
  {
   "cell_type": "code",
   "execution_count": 33,
   "id": "2f1baa39",
   "metadata": {},
   "outputs": [
    {
     "name": "stdout",
     "output_type": "stream",
     "text": [
      " Custom Kernel Accuracy: 0.86\n",
      " Poly Kernel Accuracy   : 0.86\n",
      " RBF Kernel Accuracy    : 0.90\n"
     ]
    }
   ],
   "source": [
    "print(f\" Custom Kernel Accuracy: {acc_custom:.2f}\")\n",
    "print(f\" Poly Kernel Accuracy   : {acc_poly:.2f}\")\n",
    "print(f\" RBF Kernel Accuracy    : {acc_rbf:.2f}\")"
   ]
  }
 ],
 "metadata": {
  "kernelspec": {
   "display_name": "Python 3",
   "language": "python",
   "name": "python3"
  },
  "language_info": {
   "codemirror_mode": {
    "name": "ipython",
    "version": 3
   },
   "file_extension": ".py",
   "mimetype": "text/x-python",
   "name": "python",
   "nbconvert_exporter": "python",
   "pygments_lexer": "ipython3",
   "version": "3.11.1"
  }
 },
 "nbformat": 4,
 "nbformat_minor": 5
}
