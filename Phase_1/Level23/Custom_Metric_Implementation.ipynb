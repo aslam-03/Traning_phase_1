{
 "cells": [
  {
   "cell_type": "code",
   "execution_count": 8,
   "id": "58749573",
   "metadata": {},
   "outputs": [],
   "source": [
    "import tensorflow as tf\n",
    "from tensorflow.keras.models import Sequential\n",
    "from tensorflow.keras.layers import Dense\n",
    "from sklearn.metrics import classification_report\n",
    "import pandas as pd\n",
    "import numpy as np\n",
    "from sklearn.model_selection import train_test_split\n",
    "\n"
   ]
  },
  {
   "cell_type": "code",
   "execution_count": null,
   "id": "6e364995",
   "metadata": {},
   "outputs": [],
   "source": [
    "\n",
    "class WeightedF1Score(tf.keras.metrics.Metric):\n",
    "    def __init__(self, name='weighted_f1', class_weights=[0.2, 0.8], **kwargs):\n",
    "        super().__init__(name=name, **kwargs)\n",
    "        self.class_weights = tf.constant(class_weights, dtype=tf.float32)\n",
    "        self.precision = tf.keras.metrics.Precision()\n",
    "        self.recall = tf.keras.metrics.Recall()\n",
    "        \n",
    "    def update_state(self, y_true, y_pred, sample_weight=None):\n",
    "        y_pred = tf.round(y_pred)\n",
    "        self.precision.update_state(y_true, y_pred)\n",
    "        self.recall.update_state(y_true, y_pred)\n",
    "        \n",
    "    def result(self):\n",
    "        p = self.precision.result()\n",
    "        r = self.recall.result()\n",
    "        f1 = 2 * ((p * r) / (p + r + tf.keras.backend.epsilon()))\n",
    "        return tf.reduce_sum(f1 * self.class_weights)\n",
    "    \n",
    "    def reset_state(self):\n",
    "        self.precision.reset_state()\n",
    "        self.recall.reset_state()\n"
   ]
  },
  {
   "cell_type": "code",
   "execution_count": null,
   "id": "878d1ae1",
   "metadata": {},
   "outputs": [],
   "source": [
    "\n",
    "np.random.seed(42)\n",
    "n_samples = 10000\n",
    "fraud_ratio = 0.05  \n",
    "\n",
    "X = np.random.randn(n_samples, 5)  \n",
    "y = np.random.binomial(1, fraud_ratio, n_samples)\n",
    "\n",
    "X[y == 1] += 1.5  \n"
   ]
  },
  {
   "cell_type": "code",
   "execution_count": null,
   "id": "1d68ef7c",
   "metadata": {},
   "outputs": [],
   "source": [
    "\n",
    "X_train, X_test, y_train, y_test = train_test_split(\n",
    "    X, y, test_size=0.3, stratify=y, random_state=42)\n"
   ]
  },
  {
   "cell_type": "code",
   "execution_count": null,
   "id": "bb182400",
   "metadata": {},
   "outputs": [
    {
     "name": "stdout",
     "output_type": "stream",
     "text": [
      "WARNING:tensorflow:From c:\\Users\\ASLAM\\AppData\\Local\\Programs\\Python\\Python311\\Lib\\site-packages\\keras\\src\\backend.py:873: The name tf.get_default_graph is deprecated. Please use tf.compat.v1.get_default_graph instead.\n",
      "\n"
     ]
    }
   ],
   "source": [
    "\n",
    "model = Sequential([\n",
    "    Dense(16, activation='relu', input_shape=(5,)),\n",
    "    Dense(8, activation='relu'),\n",
    "    Dense(1, activation='sigmoid')\n",
    "])\n",
    "\n",
    "class_weights = {0: 1, 1: 20}  \n"
   ]
  },
  {
   "cell_type": "code",
   "execution_count": 13,
   "id": "a8d0bfae",
   "metadata": {},
   "outputs": [
    {
     "name": "stdout",
     "output_type": "stream",
     "text": [
      "WARNING:tensorflow:From c:\\Users\\ASLAM\\AppData\\Local\\Programs\\Python\\Python311\\Lib\\site-packages\\keras\\src\\optimizers\\__init__.py:309: The name tf.train.Optimizer is deprecated. Please use tf.compat.v1.train.Optimizer instead.\n",
      "\n"
     ]
    }
   ],
   "source": [
    "\n",
    "model.compile(\n",
    "    optimizer='adam',\n",
    "    loss='binary_crossentropy',\n",
    "    metrics=['accuracy', WeightedF1Score(class_weights=[0.2, 0.8])]\n",
    ")\n"
   ]
  },
  {
   "cell_type": "code",
   "execution_count": 14,
   "id": "d7d08639",
   "metadata": {},
   "outputs": [
    {
     "name": "stdout",
     "output_type": "stream",
     "text": [
      "Epoch 1/10\n",
      "WARNING:tensorflow:From c:\\Users\\ASLAM\\AppData\\Local\\Programs\\Python\\Python311\\Lib\\site-packages\\keras\\src\\utils\\tf_utils.py:492: The name tf.ragged.RaggedTensorValue is deprecated. Please use tf.compat.v1.ragged.RaggedTensorValue instead.\n",
      "\n",
      "WARNING:tensorflow:From c:\\Users\\ASLAM\\AppData\\Local\\Programs\\Python\\Python311\\Lib\\site-packages\\keras\\src\\engine\\base_layer_utils.py:384: The name tf.executing_eagerly_outside_functions is deprecated. Please use tf.compat.v1.executing_eagerly_outside_functions instead.\n",
      "\n",
      "175/175 [==============================] - 3s 6ms/step - loss: 1.4145 - accuracy: 0.7577 - weighted_f1: 0.1524 - val_loss: 0.5417 - val_accuracy: 0.7164 - val_weighted_f1: 0.2012\n",
      "Epoch 2/10\n",
      "175/175 [==============================] - 1s 3ms/step - loss: 0.6733 - accuracy: 0.7804 - weighted_f1: 0.2841 - val_loss: 0.3484 - val_accuracy: 0.8386 - val_weighted_f1: 0.3110\n",
      "Epoch 3/10\n",
      "175/175 [==============================] - 1s 3ms/step - loss: 0.4662 - accuracy: 0.8675 - weighted_f1: 0.3958 - val_loss: 0.2906 - val_accuracy: 0.8643 - val_weighted_f1: 0.3493\n",
      "Epoch 4/10\n",
      "175/175 [==============================] - 1s 3ms/step - loss: 0.3955 - accuracy: 0.8888 - weighted_f1: 0.4423 - val_loss: 0.2075 - val_accuracy: 0.9057 - val_weighted_f1: 0.4261\n",
      "Epoch 5/10\n",
      "175/175 [==============================] - 1s 3ms/step - loss: 0.3641 - accuracy: 0.9086 - weighted_f1: 0.4890 - val_loss: 0.1997 - val_accuracy: 0.9064 - val_weighted_f1: 0.4279\n",
      "Epoch 6/10\n",
      "175/175 [==============================] - 1s 4ms/step - loss: 0.3465 - accuracy: 0.9141 - weighted_f1: 0.5046 - val_loss: 0.1807 - val_accuracy: 0.9200 - val_weighted_f1: 0.4667\n",
      "Epoch 7/10\n",
      "175/175 [==============================] - 0s 3ms/step - loss: 0.3355 - accuracy: 0.9230 - weighted_f1: 0.5300 - val_loss: 0.1847 - val_accuracy: 0.9207 - val_weighted_f1: 0.4689\n",
      "Epoch 8/10\n",
      "175/175 [==============================] - 0s 3ms/step - loss: 0.3231 - accuracy: 0.9241 - weighted_f1: 0.5355 - val_loss: 0.1871 - val_accuracy: 0.9214 - val_weighted_f1: 0.4712\n",
      "Epoch 9/10\n",
      "175/175 [==============================] - 0s 3ms/step - loss: 0.3116 - accuracy: 0.9293 - weighted_f1: 0.5541 - val_loss: 0.1869 - val_accuracy: 0.9221 - val_weighted_f1: 0.4734\n",
      "Epoch 10/10\n",
      "175/175 [==============================] - 0s 3ms/step - loss: 0.3040 - accuracy: 0.9336 - weighted_f1: 0.5684 - val_loss: 0.1915 - val_accuracy: 0.9207 - val_weighted_f1: 0.4689\n"
     ]
    }
   ],
   "source": [
    "\n",
    "history = model.fit(\n",
    "    X_train, y_train,\n",
    "    epochs=10,\n",
    "    batch_size=32,\n",
    "    class_weight=class_weights,\n",
    "    validation_split=0.2,\n",
    "    verbose=1\n",
    ")\n"
   ]
  },
  {
   "cell_type": "code",
   "execution_count": null,
   "id": "08ad5dea",
   "metadata": {},
   "outputs": [
    {
     "name": "stdout",
     "output_type": "stream",
     "text": [
      "94/94 [==============================] - 0s 2ms/step\n"
     ]
    }
   ],
   "source": [
    "\n",
    "y_pred = (model.predict(X_test) > 0.5).astype(int)\n",
    "standard_report = classification_report(y_test, y_pred, output_dict=True)\n",
    "standard_f1 = standard_report['1']['f1-score']\n",
    "\n",
    "\n",
    "custom_f1 = history.history['val_weighted_f1'][-1] \n"
   ]
  },
  {
   "cell_type": "code",
   "execution_count": null,
   "id": "aeea2c95",
   "metadata": {},
   "outputs": [
    {
     "name": "stdout",
     "output_type": "stream",
     "text": [
      "\n",
      "Metric Comparison:\n",
      "                      Metric     Value\n",
      "0  Standard F1 (Fraud Class)  0.526749\n",
      "1         Custom Weighted F1  0.468899\n"
     ]
    }
   ],
   "source": [
    "\n",
    "results = pd.DataFrame({\n",
    "    'Metric': ['Standard F1 (Fraud Class)', 'Custom Weighted F1'],\n",
    "    'Value': [standard_f1, custom_f1]\n",
    "})\n",
    "\n",
    "print(\"\\nMetric Comparison:\")\n",
    "print(results)\n"
   ]
  }
 ],
 "metadata": {
  "kernelspec": {
   "display_name": "Python 3",
   "language": "python",
   "name": "python3"
  },
  "language_info": {
   "codemirror_mode": {
    "name": "ipython",
    "version": 3
   },
   "file_extension": ".py",
   "mimetype": "text/x-python",
   "name": "python",
   "nbconvert_exporter": "python",
   "pygments_lexer": "ipython3",
   "version": "3.11.1"
  }
 },
 "nbformat": 4,
 "nbformat_minor": 5
}
