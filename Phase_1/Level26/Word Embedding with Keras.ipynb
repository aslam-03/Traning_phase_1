{
 "cells": [
  {
   "cell_type": "code",
   "execution_count": null,
   "id": "354548d1",
   "metadata": {},
   "outputs": [],
   "source": [
    "import pandas as pd\n",
    "import numpy as np\n",
    "import tensorflow as tf\n",
    "from tensorflow.keras.preprocessing.text import Tokenizer\n",
    "from tensorflow.keras.preprocessing.sequence import pad_sequences\n",
    "from tensorflow.keras.models import Sequential\n",
    "from tensorflow.keras.layers import Embedding, Flatten, Dense\n",
    "from sklearn.model_selection import train_test_split\n",
    "from sklearn.manifold import TSNE\n",
    "import matplotlib.pyplot as plt\n",
    "import matplotlib.cm as cm\n",
    "\n",
    "tf.random.set_seed(42)\n",
    "np.random.seed(42)"
   ]
  },
  {
   "cell_type": "code",
   "execution_count": null,
   "id": "437e84eb",
   "metadata": {},
   "outputs": [
    {
     "name": "stdout",
     "output_type": "stream",
     "text": [
      "Dataset size: 100000\n",
      "        target         ids                          date      flag  \\\n",
      "541200       0  2200003196  Tue Jun 16 18:18:12 PDT 2009  NO_QUERY   \n",
      "750          0  1467998485  Mon Apr 06 23:11:14 PDT 2009  NO_QUERY   \n",
      "766711       0  2300048954  Tue Jun 23 13:40:11 PDT 2009  NO_QUERY   \n",
      "285055       0  1993474027  Mon Jun 01 10:26:07 PDT 2009  NO_QUERY   \n",
      "705995       0  2256550904  Sat Jun 20 12:56:51 PDT 2009  NO_QUERY   \n",
      "\n",
      "                   user                                               text  \n",
      "541200  LaLaLindsey0609             @chrishasboobs AHHH I HOPE YOUR OK!!!   \n",
      "750         sexygrneyes  @misstoriblack cool , i have no tweet apps  fo...  \n",
      "766711       sammydearr  @TiannaChaos i know  just family drama. its la...  \n",
      "285055      Lamb_Leanne  School email won't open  and I have geography ...  \n",
      "705995      yogicerdito                             upper airways problem   \n"
     ]
    }
   ],
   "source": [
    "df = pd.read_csv('training.1600000.processed.noemoticon.csv', \n",
    "                 encoding='latin-1', \n",
    "                 header=None,\n",
    "                 names=['target', 'ids', 'date', 'flag', 'user', 'text'])\n",
    "\n",
    "df['target'] = df['target'].replace(4, 1)\n",
    "\n",
    "df = df.sample(100000, random_state=42)\n",
    "\n",
    "print(f\"Dataset size: {len(df)}\")\n",
    "print(df.head())"
   ]
  },
  {
   "cell_type": "code",
   "execution_count": null,
   "id": "f1d90bba",
   "metadata": {},
   "outputs": [],
   "source": [
    "\n",
    "VOCAB_SIZE = 10000  \n",
    "MAX_LEN = 50        \n",
    "EMBEDDING_DIM = 100 \n"
   ]
  },
  {
   "cell_type": "code",
   "execution_count": null,
   "id": "a77cf173",
   "metadata": {},
   "outputs": [],
   "source": [
    "\n",
    "train_df, test_df = train_test_split(df, test_size=0.2, random_state=42)"
   ]
  },
  {
   "cell_type": "code",
   "execution_count": null,
   "id": "23cc400d",
   "metadata": {},
   "outputs": [],
   "source": [
    "\n",
    "tokenizer = Tokenizer(num_words=VOCAB_SIZE, oov_token='<OOV>')\n",
    "tokenizer.fit_on_texts(train_df['text'])"
   ]
  },
  {
   "cell_type": "code",
   "execution_count": null,
   "id": "d65ea0f2",
   "metadata": {},
   "outputs": [],
   "source": [
    "\n",
    "train_sequences = tokenizer.texts_to_sequences(train_df['text'])\n",
    "test_sequences = tokenizer.texts_to_sequences(test_df['text'])"
   ]
  },
  {
   "cell_type": "code",
   "execution_count": null,
   "id": "d9f5beb6",
   "metadata": {},
   "outputs": [],
   "source": [
    "X_train = pad_sequences(train_sequences, maxlen=MAX_LEN, padding='post', truncating='post')\n",
    "X_test = pad_sequences(test_sequences, maxlen=MAX_LEN, padding='post', truncating='post')\n"
   ]
  },
  {
   "cell_type": "code",
   "execution_count": null,
   "id": "886ce380",
   "metadata": {},
   "outputs": [
    {
     "name": "stdout",
     "output_type": "stream",
     "text": [
      "Training data shape: (80000, 50)\n",
      "Test data shape: (20000, 50)\n"
     ]
    }
   ],
   "source": [
    "y_train = train_df['target'].values\n",
    "y_test = test_df['target'].values\n",
    "\n",
    "print(f\"Training data shape: {X_train.shape}\")\n",
    "print(f\"Test data shape: {X_test.shape}\")"
   ]
  },
  {
   "cell_type": "markdown",
   "id": "2fafe611",
   "metadata": {},
   "source": [
    "###  Build the Embedding Model"
   ]
  },
  {
   "cell_type": "code",
   "execution_count": null,
   "id": "fd2216bb",
   "metadata": {},
   "outputs": [
    {
     "name": "stdout",
     "output_type": "stream",
     "text": [
      "WARNING:tensorflow:From c:\\Users\\ASLAM\\AppData\\Local\\Programs\\Python\\Python311\\Lib\\site-packages\\keras\\src\\backend.py:873: The name tf.get_default_graph is deprecated. Please use tf.compat.v1.get_default_graph instead.\n",
      "\n",
      "Model: \"sequential\"\n",
      "_________________________________________________________________\n",
      " Layer (type)                Output Shape              Param #   \n",
      "=================================================================\n",
      " embedding (Embedding)       (None, 50, 100)           1000000   \n",
      "                                                                 \n",
      " flatten (Flatten)           (None, 5000)              0         \n",
      "                                                                 \n",
      " dense (Dense)               (None, 64)                320064    \n",
      "                                                                 \n",
      " dense_1 (Dense)             (None, 1)                 65        \n",
      "                                                                 \n",
      "=================================================================\n",
      "Total params: 1320129 (5.04 MB)\n",
      "Trainable params: 1320129 (5.04 MB)\n",
      "Non-trainable params: 0 (0.00 Byte)\n",
      "_________________________________________________________________\n"
     ]
    }
   ],
   "source": [
    "model = Sequential([\n",
    "    Embedding(input_dim=VOCAB_SIZE, output_dim=EMBEDDING_DIM, input_length=MAX_LEN),\n",
    "    \n",
    "    Flatten(),\n",
    "    \n",
    "    Dense(64, activation='relu'),\n",
    "    \n",
    "    Dense(1, activation='sigmoid')\n",
    "])\n",
    "\n",
    "model.summary()"
   ]
  },
  {
   "cell_type": "code",
   "execution_count": null,
   "id": "f6d4782f",
   "metadata": {},
   "outputs": [
    {
     "name": "stdout",
     "output_type": "stream",
     "text": [
      "WARNING:tensorflow:From c:\\Users\\ASLAM\\AppData\\Local\\Programs\\Python\\Python311\\Lib\\site-packages\\keras\\src\\optimizers\\__init__.py:309: The name tf.train.Optimizer is deprecated. Please use tf.compat.v1.train.Optimizer instead.\n",
      "\n",
      "Epoch 1/20\n",
      "WARNING:tensorflow:From c:\\Users\\ASLAM\\AppData\\Local\\Programs\\Python\\Python311\\Lib\\site-packages\\keras\\src\\utils\\tf_utils.py:492: The name tf.ragged.RaggedTensorValue is deprecated. Please use tf.compat.v1.ragged.RaggedTensorValue instead.\n",
      "\n",
      "WARNING:tensorflow:From c:\\Users\\ASLAM\\AppData\\Local\\Programs\\Python\\Python311\\Lib\\site-packages\\keras\\src\\engine\\base_layer_utils.py:384: The name tf.executing_eagerly_outside_functions is deprecated. Please use tf.compat.v1.executing_eagerly_outside_functions instead.\n",
      "\n",
      "1250/1250 [==============================] - 45s 34ms/step - loss: 0.5074 - accuracy: 0.7420 - val_loss: 0.4694 - val_accuracy: 0.7717\n",
      "Epoch 2/20\n",
      "1250/1250 [==============================] - 40s 32ms/step - loss: 0.3725 - accuracy: 0.8316 - val_loss: 0.4958 - val_accuracy: 0.7677\n",
      "Epoch 3/20\n",
      "1250/1250 [==============================] - 49s 39ms/step - loss: 0.2290 - accuracy: 0.9044 - val_loss: 0.6716 - val_accuracy: 0.7531\n",
      "Epoch 4/20\n",
      "1250/1250 [==============================] - 43s 34ms/step - loss: 0.1336 - accuracy: 0.9473 - val_loss: 0.8580 - val_accuracy: 0.7465\n",
      "Epoch 5/20\n",
      "1250/1250 [==============================] - 38s 31ms/step - loss: 0.0890 - accuracy: 0.9655 - val_loss: 1.0785 - val_accuracy: 0.7330\n",
      "Epoch 6/20\n",
      "1250/1250 [==============================] - 34s 27ms/step - loss: 0.0670 - accuracy: 0.9734 - val_loss: 1.2909 - val_accuracy: 0.7362\n",
      "Epoch 7/20\n",
      "1250/1250 [==============================] - 33s 27ms/step - loss: 0.0545 - accuracy: 0.9785 - val_loss: 1.5708 - val_accuracy: 0.7341\n",
      "Epoch 8/20\n",
      "1250/1250 [==============================] - 33s 26ms/step - loss: 0.0461 - accuracy: 0.9816 - val_loss: 1.7925 - val_accuracy: 0.7370\n",
      "Epoch 9/20\n",
      "1250/1250 [==============================] - 32s 26ms/step - loss: 0.0385 - accuracy: 0.9848 - val_loss: 1.8797 - val_accuracy: 0.7278\n",
      "Epoch 10/20\n",
      "1250/1250 [==============================] - 33s 27ms/step - loss: 0.0355 - accuracy: 0.9858 - val_loss: 1.9623 - val_accuracy: 0.7268\n",
      "Epoch 11/20\n",
      "1250/1250 [==============================] - 49s 39ms/step - loss: 0.0328 - accuracy: 0.9872 - val_loss: 2.1768 - val_accuracy: 0.7258\n",
      "Epoch 12/20\n",
      "1250/1250 [==============================] - 40s 32ms/step - loss: 0.0284 - accuracy: 0.9887 - val_loss: 2.3308 - val_accuracy: 0.7269\n",
      "Epoch 13/20\n",
      "1250/1250 [==============================] - 40s 32ms/step - loss: 0.0274 - accuracy: 0.9891 - val_loss: 2.3634 - val_accuracy: 0.7236\n",
      "Epoch 14/20\n",
      "1250/1250 [==============================] - 40s 32ms/step - loss: 0.0234 - accuracy: 0.9908 - val_loss: 2.5693 - val_accuracy: 0.7255\n",
      "Epoch 15/20\n",
      "1250/1250 [==============================] - 48s 38ms/step - loss: 0.0216 - accuracy: 0.9917 - val_loss: 2.7010 - val_accuracy: 0.7261\n",
      "Epoch 16/20\n",
      "1250/1250 [==============================] - 46s 36ms/step - loss: 0.0217 - accuracy: 0.9916 - val_loss: 2.9067 - val_accuracy: 0.7308\n",
      "Epoch 17/20\n",
      "1250/1250 [==============================] - 52s 42ms/step - loss: 0.0224 - accuracy: 0.9910 - val_loss: 2.8186 - val_accuracy: 0.7297\n",
      "Epoch 18/20\n",
      "1250/1250 [==============================] - 50s 40ms/step - loss: 0.0180 - accuracy: 0.9928 - val_loss: 2.9960 - val_accuracy: 0.7260\n",
      "Epoch 19/20\n",
      "1250/1250 [==============================] - 50s 40ms/step - loss: 0.0164 - accuracy: 0.9934 - val_loss: 3.1423 - val_accuracy: 0.7297\n",
      "Epoch 20/20\n",
      "1250/1250 [==============================] - 70s 56ms/step - loss: 0.0204 - accuracy: 0.9921 - val_loss: 3.2820 - val_accuracy: 0.7269\n"
     ]
    }
   ],
   "source": [
    "model.compile(\n",
    "    optimizer='adam',\n",
    "    loss='binary_crossentropy',\n",
    "    metrics=['accuracy']\n",
    ")\n",
    "\n",
    "history = model.fit(\n",
    "    X_train, y_train,\n",
    "    epochs=20,\n",
    "    batch_size=64,\n",
    "    validation_data=(X_test, y_test)\n",
    ")"
   ]
  },
  {
   "cell_type": "code",
   "execution_count": null,
   "id": "1e4344fd",
   "metadata": {},
   "outputs": [
    {
     "data": {
      "image/png": "[encoded data removed]",
      "text/plain": [
       "<Figure size 1500x1000 with 1 Axes>"
      ]
     },
     "metadata": {},
     "output_type": "display_data"
    }
   ],
   "source": [
    "embedding_layer = model.layers[0]\n",
    "embeddings = embedding_layer.get_weights()[0]\n",
    "\n",
    "word_index = tokenizer.word_index\n",
    "reverse_word_index = {v: k for k, v in word_index.items()}\n",
    "\n",
    "num_words_to_plot = 200\n",
    "words_to_visualize = [reverse_word_index.get(i, '') for i in range(1, num_words_to_plot+1)]\n",
    "word_indices = [i for i in range(1, num_words_to_plot+1)]\n",
    "\n",
    "word_vectors = embeddings[word_indices]\n",
    "\n",
    "tsne = TSNE(n_components=2, random_state=42)\n",
    "word_vectors_2d = tsne.fit_transform(word_vectors)\n",
    "\n",
    "plt.figure(figsize=(15, 10))\n",
    "plt.scatter(word_vectors_2d[:, 0], word_vectors_2d[:, 1])\n",
    "\n",
    "words_to_label = ['good', 'bad', 'happy', 'sad', 'love', 'hate', \n",
    "                 'great', 'terrible', 'awesome', 'awful', 'like', 'dislike']\n",
    "for i, word in enumerate(words_to_visualize):\n",
    "    if word in words_to_label:\n",
    "        plt.annotate(word, xy=(word_vectors_2d[i, 0], word_vectors_2d[i, 1]), \n",
    "                    xytext=(5, 2), textcoords='offset points', ha='right', va='bottom')\n",
    "\n",
    "plt.title('Word Embeddings Visualization with t-SNE')\n",
    "plt.show()"
   ]
  },
  {
   "cell_type": "code",
   "execution_count": null,
   "id": "1de94508",
   "metadata": {},
   "outputs": [
    {
     "name": "stdout",
     "output_type": "stream",
     "text": [
      "625/625 [==============================] - 2s 4ms/step - loss: 3.2820 - accuracy: 0.7269\n",
      "\n",
      "Test Accuracy: 0.7269\n",
      "1/1 [==============================] - 1s 706ms/step\n",
      "\n",
      "Tweet: whenever it rains it's so hard to get motivated ...\n",
      "True Sentiment: Negative\n",
      "Predicted Sentiment: Negative (confidence: 0.0696)\n",
      "\n",
      "Tweet: @therealedjones lol shut uuuuuup ed NO its how I feel ...\n",
      "True Sentiment: Positive\n",
      "Predicted Sentiment: Negative (confidence: 0.0000)\n",
      "\n",
      "Tweet: @mileycyrus hey miley  how are you  the climb is a really beautiful song well done on the vid its be...\n",
      "True Sentiment: Positive\n",
      "Predicted Sentiment: Positive (confidence: 1.0000)\n"
     ]
    }
   ],
   "source": [
    "loss, accuracy = model.evaluate(X_test, y_test)\n",
    "print(f\"\\nTest Accuracy: {accuracy:.4f}\")\n",
    "\n",
    "sample_texts = test_df['text'].head(3).tolist()\n",
    "sample_labels = test_df['target'].head(3).tolist()\n",
    "\n",
    "sample_sequences = tokenizer.texts_to_sequences(sample_texts)\n",
    "sample_padded = pad_sequences(sample_sequences, maxlen=MAX_LEN, padding='post', truncating='post')\n",
    "\n",
    "predictions = model.predict(sample_padded).flatten()\n",
    "predicted_labels = [1 if p > 0.5 else 0 for p in predictions]\n",
    "\n",
    "for text, true_label, pred_label, prob in zip(sample_texts, sample_labels, predicted_labels, predictions):\n",
    "    print(f\"\\nTweet: {text[:100]}...\")\n",
    "    print(f\"True Sentiment: {'Positive' if true_label else 'Negative'}\")\n",
    "    print(f\"Predicted Sentiment: {'Positive' if pred_label else 'Negative'} (confidence: {prob:.4f})\")"
   ]
  }
 ],
 "metadata": {
  "kernelspec": {
   "display_name": "Python 3",
   "language": "python",
   "name": "python3"
  },
  "language_info": {
   "codemirror_mode": {
    "name": "ipython",
    "version": 3
   },
   "file_extension": ".py",
   "mimetype": "text/x-python",
   "name": "python",
   "nbconvert_exporter": "python",
   "pygments_lexer": "ipython3",
   "version": "3.11.1"
  }
 },
 "nbformat": 4,
 "nbformat_minor": 5
}
