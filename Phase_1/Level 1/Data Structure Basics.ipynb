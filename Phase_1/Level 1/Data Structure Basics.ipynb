{
 "cells": [
  {
   "cell_type": "code",
   "execution_count": 3,
   "metadata": {},
   "outputs": [
    {
     "name": "stdout",
     "output_type": "stream",
     "text": [
      "[1, 2, 3, 4] {2, 4, 6} (1, 3, 5) {'A': '3', 'B': '5', 'C': '7'}\n"
     ]
    }
   ],
   "source": [
    "lst=[1,2,3]\n",
    "set={2,4,6}\n",
    "tuple=(1,3,5)\n",
    "dic={\"A\":\"3\",\"B\":\"5\"}\n",
    "lst.append(4)\n",
    "dic[\"C\"]=\"7\"\n",
    "\n",
    "print(lst,set,tuple,dic)"
   ]
  }
 ],
 "metadata": {
  "kernelspec": {
   "display_name": "Python 3",
   "language": "python",
   "name": "python3"
  },
  "language_info": {
   "codemirror_mode": {
    "name": "ipython",
    "version": 3
   },
   "file_extension": ".py",
   "mimetype": "text/x-python",
   "name": "python",
   "nbconvert_exporter": "python",
   "pygments_lexer": "ipython3",
   "version": "3.11.1"
  }
 },
 "nbformat": 4,
 "nbformat_minor": 2
}
