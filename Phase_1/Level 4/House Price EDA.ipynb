{
 "cells": [
  {
   "cell_type": "code",
   "execution_count": 1,
   "metadata": {},
   "outputs": [],
   "source": [
    "import pandas as pd"
   ]
  },
  {
   "cell_type": "code",
   "execution_count": 2,
   "metadata": {},
   "outputs": [],
   "source": [
    "df = pd.DataFrame(pd.read_csv(\"House_Price_dataset.csv\"))"
   ]
  },
  {
   "cell_type": "code",
   "execution_count": 4,
   "metadata": {},
   "outputs": [],
   "source": [
    "stats=df.describe()"
   ]
  },
  {
   "cell_type": "code",
   "execution_count": 5,
   "metadata": {},
   "outputs": [
    {
     "name": "stdout",
     "output_type": "stream",
     "text": [
      "        property_id    location_id         price       latitude  \\\n",
      "count  1.684460e+05  168446.000000  1.684460e+05  168446.000000   \n",
      "mean   1.559626e+07    4375.936395  1.776576e+07      29.859519   \n",
      "std    2.251207e+06    3776.561581  3.531003e+07       3.807870   \n",
      "min    8.657500e+04       1.000000  0.000000e+00      11.052446   \n",
      "25%    1.488320e+07    1058.000000  1.750000e+05      24.948536   \n",
      "50%    1.665851e+07    3286.000000  8.500000e+06      31.459784   \n",
      "75%    1.708662e+07    7220.000000  1.950000e+07      33.560887   \n",
      "max    1.735772e+07   14220.000000  2.000000e+09      73.184088   \n",
      "\n",
      "           longitude          baths       bedrooms      Area Size  \n",
      "count  168446.000000  168446.000000  168446.000000  168446.000000  \n",
      "mean       71.239804       2.874227       3.179422       5.892188  \n",
      "std         3.133042       2.463400       1.971401       5.778327  \n",
      "min        25.906027       0.000000       0.000000       0.000000  \n",
      "25%        67.130363       0.000000       2.000000       3.000000  \n",
      "50%        73.056182       3.000000       3.000000       5.000000  \n",
      "75%        73.259870       4.000000       4.000000       8.000000  \n",
      "max        80.161430     403.000000      68.000000     800.000000  \n"
     ]
    }
   ],
   "source": [
    "print(stats)"
   ]
  }
 ],
 "metadata": {
  "kernelspec": {
   "display_name": "Python 3",
   "language": "python",
   "name": "python3"
  },
  "language_info": {
   "codemirror_mode": {
    "name": "ipython",
    "version": 3
   },
   "file_extension": ".py",
   "mimetype": "text/x-python",
   "name": "python",
   "nbconvert_exporter": "python",
   "pygments_lexer": "ipython3",
   "version": "3.11.1"
  }
 },
 "nbformat": 4,
 "nbformat_minor": 2
}
