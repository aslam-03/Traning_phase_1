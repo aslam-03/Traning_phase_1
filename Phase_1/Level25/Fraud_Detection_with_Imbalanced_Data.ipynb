{
 "cells": [
  {
   "cell_type": "code",
   "execution_count": 14,
   "id": "5a3d28ce",
   "metadata": {},
   "outputs": [],
   "source": [
    "import pandas as pd\n",
    "from sklearn.model_selection import train_test_split\n",
    "from sklearn.preprocessing import StandardScaler,LabelEncoder\n",
    "from imblearn.over_sampling import SMOTE\n",
    "import tensorflow as tf\n",
    "from tensorflow.keras import layers, models\n",
    "from datetime import datetime\n",
    "from sklearn.metrics import classification_report\n"
   ]
  },
  {
   "cell_type": "code",
   "execution_count": null,
   "id": "bd8d24a1",
   "metadata": {},
   "outputs": [
    {
     "data": {
      "text/html": [
       "<div>\n",
       "<style scoped>\n",
       "    .dataframe tbody tr th:only-of-type {\n",
       "        vertical-align: middle;\n",
       "    }\n",
       "\n",
       "    .dataframe tbody tr th {\n",
       "        vertical-align: top;\n",
       "    }\n",
       "\n",
       "    .dataframe thead th {\n",
       "        text-align: right;\n",
       "    }\n",
       "</style>\n",
       "<table border=\"1\" class=\"dataframe\">\n",
       "  <thead>\n",
       "    <tr style=\"text-align: right;\">\n",
       "      <th></th>\n",
       "      <th>TransactionID</th>\n",
       "      <th>TransactionDate</th>\n",
       "      <th>Amount</th>\n",
       "      <th>MerchantID</th>\n",
       "      <th>TransactionType</th>\n",
       "      <th>Location</th>\n",
       "      <th>IsFraud</th>\n",
       "    </tr>\n",
       "  </thead>\n",
       "  <tbody>\n",
       "    <tr>\n",
       "      <th>0</th>\n",
       "      <td>1</td>\n",
       "      <td>2024-04-03 14:15:35.462794</td>\n",
       "      <td>4189.27</td>\n",
       "      <td>688</td>\n",
       "      <td>refund</td>\n",
       "      <td>San Antonio</td>\n",
       "      <td>0</td>\n",
       "    </tr>\n",
       "    <tr>\n",
       "      <th>1</th>\n",
       "      <td>2</td>\n",
       "      <td>2024-03-19 13:20:35.462824</td>\n",
       "      <td>2659.71</td>\n",
       "      <td>109</td>\n",
       "      <td>refund</td>\n",
       "      <td>Dallas</td>\n",
       "      <td>0</td>\n",
       "    </tr>\n",
       "    <tr>\n",
       "      <th>2</th>\n",
       "      <td>3</td>\n",
       "      <td>2024-01-08 10:08:35.462834</td>\n",
       "      <td>784.00</td>\n",
       "      <td>394</td>\n",
       "      <td>purchase</td>\n",
       "      <td>New York</td>\n",
       "      <td>0</td>\n",
       "    </tr>\n",
       "    <tr>\n",
       "      <th>3</th>\n",
       "      <td>4</td>\n",
       "      <td>2024-04-13 23:50:35.462850</td>\n",
       "      <td>3514.40</td>\n",
       "      <td>944</td>\n",
       "      <td>purchase</td>\n",
       "      <td>Philadelphia</td>\n",
       "      <td>0</td>\n",
       "    </tr>\n",
       "    <tr>\n",
       "      <th>4</th>\n",
       "      <td>5</td>\n",
       "      <td>2024-07-12 18:51:35.462858</td>\n",
       "      <td>369.07</td>\n",
       "      <td>475</td>\n",
       "      <td>purchase</td>\n",
       "      <td>Phoenix</td>\n",
       "      <td>0</td>\n",
       "    </tr>\n",
       "  </tbody>\n",
       "</table>\n",
       "</div>"
      ],
      "text/plain": [
       "   TransactionID             TransactionDate   Amount  MerchantID  \\\n",
       "0              1  2024-04-03 14:15:35.462794  4189.27         688   \n",
       "1              2  2024-03-19 13:20:35.462824  2659.71         109   \n",
       "2              3  2024-01-08 10:08:35.462834   784.00         394   \n",
       "3              4  2024-04-13 23:50:35.462850  3514.40         944   \n",
       "4              5  2024-07-12 18:51:35.462858   369.07         475   \n",
       "\n",
       "  TransactionType      Location  IsFraud  \n",
       "0          refund   San Antonio        0  \n",
       "1          refund        Dallas        0  \n",
       "2        purchase      New York        0  \n",
       "3        purchase  Philadelphia        0  \n",
       "4        purchase       Phoenix        0  "
      ]
     },
     "execution_count": 15,
     "metadata": {},
     "output_type": "execute_result"
    }
   ],
   "source": [
    "\n",
    "df = pd.read_csv('credit_card_fraud_dataset.csv')  \n",
    "df.head()"
   ]
  },
  {
   "cell_type": "code",
   "execution_count": null,
   "id": "3949dec8",
   "metadata": {},
   "outputs": [],
   "source": [
    "df = df.drop(['TransactionID', 'TransactionDate'], axis=1)\n",
    "\n",
    "df['TransactionType'] = LabelEncoder().fit_transform(df['TransactionType'])  \n",
    "df['Location'] = LabelEncoder().fit_transform(df['Location'])  \n",
    "\n",
    "\n",
    "X = df.drop('IsFraud', axis=1)\n",
    "y = df['IsFraud']\n",
    "\n",
    "\n",
    "scaler = StandardScaler()\n",
    "X_scaled = scaler.fit_transform(X)\n"
   ]
  },
  {
   "cell_type": "code",
   "execution_count": null,
   "id": "d6923d20",
   "metadata": {},
   "outputs": [],
   "source": [
    "\n",
    "X_train, X_test, y_train, y_test = train_test_split(X_scaled, y, test_size=0.2, stratify=y, random_state=42)\n"
   ]
  },
  {
   "cell_type": "code",
   "execution_count": null,
   "id": "3b793f4f",
   "metadata": {},
   "outputs": [],
   "source": [
    "\n",
    "sm = SMOTE(random_state=42)\n",
    "X_train_res, y_train_res = sm.fit_resample(X_train, y_train)\n"
   ]
  },
  {
   "cell_type": "code",
   "execution_count": null,
   "id": "18ad14fb",
   "metadata": {},
   "outputs": [],
   "source": [
    "\n",
    "model = models.Sequential([\n",
    "    layers.Dense(128, activation='relu', input_shape=(X_train.shape[1],)),\n",
    "    layers.Dense(128, activation='relu'),\n",
    "    layers.Dense(1, activation='sigmoid')\n",
    "])\n"
   ]
  },
  {
   "cell_type": "code",
   "execution_count": 20,
   "id": "b7035909",
   "metadata": {},
   "outputs": [],
   "source": [
    "\n",
    "model.compile(optimizer='adam',\n",
    "              loss='binary_crossentropy',\n",
    "              metrics=['accuracy'])\n"
   ]
  },
  {
   "cell_type": "code",
   "execution_count": null,
   "id": "049b8238",
   "metadata": {},
   "outputs": [],
   "source": [
    "\n",
    "log_dir = \"logs/fraud_\" + datetime.now().strftime(\"%Y%m%d-%H%M%S\")\n",
    "tensorboard_cb = tf.keras.callbacks.TensorBoard(log_dir=log_dir)\n"
   ]
  },
  {
   "cell_type": "code",
   "execution_count": null,
   "id": "7b59584b",
   "metadata": {},
   "outputs": [
    {
     "name": "stdout",
     "output_type": "stream",
     "text": [
      "Epoch 1/10\n",
      "78/78 [==============================] - 2s 13ms/step - loss: 0.6883 - accuracy: 0.5401 - val_loss: 0.6881 - val_accuracy: 0.4852\n",
      "Epoch 2/10\n",
      "78/78 [==============================] - 0s 5ms/step - loss: 0.6822 - accuracy: 0.5649 - val_loss: 0.7165 - val_accuracy: 0.4103\n",
      "Epoch 3/10\n",
      "78/78 [==============================] - 0s 5ms/step - loss: 0.6771 - accuracy: 0.5781 - val_loss: 0.6726 - val_accuracy: 0.5721\n",
      "Epoch 4/10\n",
      "78/78 [==============================] - 0s 5ms/step - loss: 0.6721 - accuracy: 0.5888 - val_loss: 0.6591 - val_accuracy: 0.5835\n",
      "Epoch 5/10\n",
      "78/78 [==============================] - 0s 5ms/step - loss: 0.6657 - accuracy: 0.6035 - val_loss: 0.6326 - val_accuracy: 0.6552\n",
      "Epoch 6/10\n",
      "78/78 [==============================] - 1s 7ms/step - loss: 0.6598 - accuracy: 0.6121 - val_loss: 0.6504 - val_accuracy: 0.6345\n",
      "Epoch 7/10\n",
      "78/78 [==============================] - 1s 7ms/step - loss: 0.6537 - accuracy: 0.6190 - val_loss: 0.6599 - val_accuracy: 0.5842\n",
      "Epoch 8/10\n",
      "78/78 [==============================] - 1s 7ms/step - loss: 0.6469 - accuracy: 0.6283 - val_loss: 0.6572 - val_accuracy: 0.5936\n",
      "Epoch 9/10\n",
      "78/78 [==============================] - 1s 7ms/step - loss: 0.6423 - accuracy: 0.6329 - val_loss: 0.6248 - val_accuracy: 0.6438\n",
      "Epoch 10/10\n",
      "78/78 [==============================] - 1s 8ms/step - loss: 0.6362 - accuracy: 0.6397 - val_loss: 0.6074 - val_accuracy: 0.6574\n"
     ]
    }
   ],
   "source": [
    "\n",
    "history = model.fit(X_train_res, y_train_res,\n",
    "                    epochs=10,\n",
    "                    batch_size=2048,\n",
    "                    validation_data=(X_test, y_test),\n",
    "                    callbacks=[tensorboard_cb])\n"
   ]
  },
  {
   "cell_type": "code",
   "execution_count": null,
   "id": "42c709be",
   "metadata": {},
   "outputs": [
    {
     "name": "stdout",
     "output_type": "stream",
     "text": [
      "625/625 [==============================] - 1s 1ms/step\n",
      "625/625 [==============================] - 1s 1ms/step\n",
      "Before SMOTE:\n",
      "              precision    recall  f1-score   support\n",
      "\n",
      "           0       0.99      1.00      0.99     19800\n",
      "           1       0.00      0.00      0.00       200\n",
      "\n",
      "    accuracy                           0.99     20000\n",
      "   macro avg       0.49      0.50      0.50     20000\n",
      "weighted avg       0.98      0.99      0.99     20000\n",
      "\n",
      "After SMOTE:\n",
      "              precision    recall  f1-score   support\n",
      "\n",
      "           0       0.99      0.66      0.79     19800\n",
      "           1       0.01      0.31      0.02       200\n",
      "\n",
      "    accuracy                           0.66     20000\n",
      "   macro avg       0.50      0.49      0.41     20000\n",
      "weighted avg       0.98      0.66      0.78     20000\n",
      "\n"
     ]
    },
    {
     "name": "stderr",
     "output_type": "stream",
     "text": [
      "c:\\Users\\ASLAM\\AppData\\Local\\Programs\\Python\\Python311\\Lib\\site-packages\\sklearn\\metrics\\_classification.py:1531: UndefinedMetricWarning: Precision is ill-defined and being set to 0.0 in labels with no predicted samples. Use `zero_division` parameter to control this behavior.\n",
      "  _warn_prf(average, modifier, f\"{metric.capitalize()} is\", len(result))\n",
      "c:\\Users\\ASLAM\\AppData\\Local\\Programs\\Python\\Python311\\Lib\\site-packages\\sklearn\\metrics\\_classification.py:1531: UndefinedMetricWarning: Precision is ill-defined and being set to 0.0 in labels with no predicted samples. Use `zero_division` parameter to control this behavior.\n",
      "  _warn_prf(average, modifier, f\"{metric.capitalize()} is\", len(result))\n",
      "c:\\Users\\ASLAM\\AppData\\Local\\Programs\\Python\\Python311\\Lib\\site-packages\\sklearn\\metrics\\_classification.py:1531: UndefinedMetricWarning: Precision is ill-defined and being set to 0.0 in labels with no predicted samples. Use `zero_division` parameter to control this behavior.\n",
      "  _warn_prf(average, modifier, f\"{metric.capitalize()} is\", len(result))\n"
     ]
    }
   ],
   "source": [
    "\n",
    "\n",
    "model_unbalanced = tf.keras.models.clone_model(model)\n",
    "model_unbalanced.compile(optimizer='adam', loss='binary_crossentropy', metrics=['accuracy'])\n",
    "model_unbalanced.fit(X_train, y_train, epochs=10, batch_size=2048, verbose=0)\n",
    "y_pred_unbalanced = (model_unbalanced.predict(X_test) > 0.5).astype(int)\n",
    "\n",
    "y_pred_balanced = (model.predict(X_test) > 0.5).astype(int)\n",
    "\n",
    "print(\"Before SMOTE:\")\n",
    "print(classification_report(y_test, y_pred_unbalanced))\n",
    "\n",
    "print(\"After SMOTE:\")\n",
    "print(classification_report(y_test, y_pred_balanced))\n"
   ]
  }
 ],
 "metadata": {
  "kernelspec": {
   "display_name": "Python 3",
   "language": "python",
   "name": "python3"
  },
  "language_info": {
   "codemirror_mode": {
    "name": "ipython",
    "version": 3
   },
   "file_extension": ".py",
   "mimetype": "text/x-python",
   "name": "python",
   "nbconvert_exporter": "python",
   "pygments_lexer": "ipython3",
   "version": "3.11.1"
  }
 },
 "nbformat": 4,
 "nbformat_minor": 5
}
